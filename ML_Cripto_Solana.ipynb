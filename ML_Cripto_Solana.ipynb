{
  "nbformat": 4,
  "nbformat_minor": 0,
  "metadata": {
    "colab": {
      "name": "ML Cripto Solana",
      "provenance": [],
      "collapsed_sections": [],
      "mount_file_id": "1sQCk-aiCVvjv9LJ-OCatPMR6rBzeneJO",
      "authorship_tag": "ABX9TyOscTmlUKAAlxoeRQZJo4Ts",
      "include_colab_link": true
    },
    "kernelspec": {
      "name": "python3",
      "display_name": "Python 3"
    },
    "language_info": {
      "name": "python"
    }
  },
  "cells": [
    {
      "cell_type": "markdown",
      "metadata": {
        "id": "view-in-github",
        "colab_type": "text"
      },
      "source": [
        "<a href=\"https://colab.research.google.com/github/CaioMonsorez/MLCriptomoedaSolana/blob/main/ML_Cripto_Solana.ipynb\" target=\"_parent\"><img src=\"https://colab.research.google.com/assets/colab-badge.svg\" alt=\"Open In Colab\"/></a>"
      ]
    },
    {
      "cell_type": "markdown",
      "metadata": {
        "id": "KgWMXWM26d0u"
      },
      "source": [
        "###**UTILIZAÇÃO DE REDES NEURAIS RECORRENTES (RNN) PARA PREDIÇÃO DE PREÇO DE AÇÕES DA CRIPTOMOEDA SOLANA**\n",
        "\n",
        "![images.jpg](data:image/jpeg;base64,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)\n"
      ]
    },
    {
      "cell_type": "markdown",
      "metadata": {
        "id": "xjy4slZI7z7o"
      },
      "source": [
        "A Solana é uma moeda digital descentralizada, que surgiu com a finalidade de substituir os \n",
        "meios de pagamento atuais, porém ele enfrenta grandes desconfianças dos investidores e usuários\n",
        "devido à volatilidade de seus valores. Uma forma de mitigar essa volatilidade é aplicar inteligência\n",
        "computacional baseada em algoritmos de aprendizado de máquina, com o intuito de predizer\n",
        "os valores de sua cotação. Este trabalho busca aplicar uma Rede Neural Recorrente (RNN)\n",
        "utilizando-se da série histórica da Solana para realizar a predição da curva relativa ao valor\n",
        "de fechamento diário. Para realizar o treinamento do algoritmo, foi utilizada a base de dados\n",
        "Investing.com. Os dados utilizados são relativos à paridade SOLUSD no\n",
        "período de 01/01/2021 até 08/09/2021. Diversos indicadores foram avaliados e combinados para\n",
        "verificar a qualidade da geração do modelo, porém o melhor resultado obtido utilizou apenas\n",
        "o indicador de curva (valor de fechamento diário) com uma raiz quadrada do erro quadrático\n",
        "médio (do Inglês root mean square error - RMSE) de 260.137, sendo esse valor um parâmetro\n",
        "para pesquisas futuras\n"
      ]
    },
    {
      "cell_type": "markdown",
      "metadata": {
        "id": "KBgCdyVb6CVZ"
      },
      "source": [
        "**Importando a Base de dados extraída da investing.com**"
      ]
    },
    {
      "cell_type": "code",
      "metadata": {
        "colab": {
          "base_uri": "https://localhost:8080/",
          "height": 426
        },
        "id": "xscM-hMhgnqr",
        "outputId": "cdcc0111-b483-49af-c68d-ab1b4583374e"
      },
      "source": [
        "import pandas as pd\n",
        "import numpy as np\n",
        "import math\n",
        "\n",
        "bd = pd.read_csv('Solana1.csv')\n",
        "\n",
        "bd.head()"
      ],
      "execution_count": null,
      "outputs": [
        {
          "output_type": "error",
          "ename": "FileNotFoundError",
          "evalue": "ignored",
          "traceback": [
            "\u001b[0;31m---------------------------------------------------------------------------\u001b[0m",
            "\u001b[0;31mFileNotFoundError\u001b[0m                         Traceback (most recent call last)",
            "\u001b[0;32m<ipython-input-1-96c3913f3bba>\u001b[0m in \u001b[0;36m<module>\u001b[0;34m()\u001b[0m\n\u001b[1;32m      3\u001b[0m \u001b[0;32mimport\u001b[0m \u001b[0mmath\u001b[0m\u001b[0;34m\u001b[0m\u001b[0;34m\u001b[0m\u001b[0m\n\u001b[1;32m      4\u001b[0m \u001b[0;34m\u001b[0m\u001b[0m\n\u001b[0;32m----> 5\u001b[0;31m \u001b[0mbd\u001b[0m \u001b[0;34m=\u001b[0m \u001b[0mpd\u001b[0m\u001b[0;34m.\u001b[0m\u001b[0mread_csv\u001b[0m\u001b[0;34m(\u001b[0m\u001b[0;34m'Solana1.csv'\u001b[0m\u001b[0;34m)\u001b[0m\u001b[0;34m\u001b[0m\u001b[0;34m\u001b[0m\u001b[0m\n\u001b[0m\u001b[1;32m      6\u001b[0m \u001b[0;34m\u001b[0m\u001b[0m\n\u001b[1;32m      7\u001b[0m \u001b[0mbd\u001b[0m\u001b[0;34m.\u001b[0m\u001b[0mhead\u001b[0m\u001b[0;34m(\u001b[0m\u001b[0;34m)\u001b[0m\u001b[0;34m\u001b[0m\u001b[0;34m\u001b[0m\u001b[0m\n",
            "\u001b[0;32m/usr/local/lib/python3.7/dist-packages/pandas/io/parsers.py\u001b[0m in \u001b[0;36mread_csv\u001b[0;34m(filepath_or_buffer, sep, delimiter, header, names, index_col, usecols, squeeze, prefix, mangle_dupe_cols, dtype, engine, converters, true_values, false_values, skipinitialspace, skiprows, skipfooter, nrows, na_values, keep_default_na, na_filter, verbose, skip_blank_lines, parse_dates, infer_datetime_format, keep_date_col, date_parser, dayfirst, cache_dates, iterator, chunksize, compression, thousands, decimal, lineterminator, quotechar, quoting, doublequote, escapechar, comment, encoding, dialect, error_bad_lines, warn_bad_lines, delim_whitespace, low_memory, memory_map, float_precision)\u001b[0m\n\u001b[1;32m    686\u001b[0m     )\n\u001b[1;32m    687\u001b[0m \u001b[0;34m\u001b[0m\u001b[0m\n\u001b[0;32m--> 688\u001b[0;31m     \u001b[0;32mreturn\u001b[0m \u001b[0m_read\u001b[0m\u001b[0;34m(\u001b[0m\u001b[0mfilepath_or_buffer\u001b[0m\u001b[0;34m,\u001b[0m \u001b[0mkwds\u001b[0m\u001b[0;34m)\u001b[0m\u001b[0;34m\u001b[0m\u001b[0;34m\u001b[0m\u001b[0m\n\u001b[0m\u001b[1;32m    689\u001b[0m \u001b[0;34m\u001b[0m\u001b[0m\n\u001b[1;32m    690\u001b[0m \u001b[0;34m\u001b[0m\u001b[0m\n",
            "\u001b[0;32m/usr/local/lib/python3.7/dist-packages/pandas/io/parsers.py\u001b[0m in \u001b[0;36m_read\u001b[0;34m(filepath_or_buffer, kwds)\u001b[0m\n\u001b[1;32m    452\u001b[0m \u001b[0;34m\u001b[0m\u001b[0m\n\u001b[1;32m    453\u001b[0m     \u001b[0;31m# Create the parser.\u001b[0m\u001b[0;34m\u001b[0m\u001b[0;34m\u001b[0m\u001b[0;34m\u001b[0m\u001b[0m\n\u001b[0;32m--> 454\u001b[0;31m     \u001b[0mparser\u001b[0m \u001b[0;34m=\u001b[0m \u001b[0mTextFileReader\u001b[0m\u001b[0;34m(\u001b[0m\u001b[0mfp_or_buf\u001b[0m\u001b[0;34m,\u001b[0m \u001b[0;34m**\u001b[0m\u001b[0mkwds\u001b[0m\u001b[0;34m)\u001b[0m\u001b[0;34m\u001b[0m\u001b[0;34m\u001b[0m\u001b[0m\n\u001b[0m\u001b[1;32m    455\u001b[0m \u001b[0;34m\u001b[0m\u001b[0m\n\u001b[1;32m    456\u001b[0m     \u001b[0;32mif\u001b[0m \u001b[0mchunksize\u001b[0m \u001b[0;32mor\u001b[0m \u001b[0miterator\u001b[0m\u001b[0;34m:\u001b[0m\u001b[0;34m\u001b[0m\u001b[0;34m\u001b[0m\u001b[0m\n",
            "\u001b[0;32m/usr/local/lib/python3.7/dist-packages/pandas/io/parsers.py\u001b[0m in \u001b[0;36m__init__\u001b[0;34m(self, f, engine, **kwds)\u001b[0m\n\u001b[1;32m    946\u001b[0m             \u001b[0mself\u001b[0m\u001b[0;34m.\u001b[0m\u001b[0moptions\u001b[0m\u001b[0;34m[\u001b[0m\u001b[0;34m\"has_index_names\"\u001b[0m\u001b[0;34m]\u001b[0m \u001b[0;34m=\u001b[0m \u001b[0mkwds\u001b[0m\u001b[0;34m[\u001b[0m\u001b[0;34m\"has_index_names\"\u001b[0m\u001b[0;34m]\u001b[0m\u001b[0;34m\u001b[0m\u001b[0;34m\u001b[0m\u001b[0m\n\u001b[1;32m    947\u001b[0m \u001b[0;34m\u001b[0m\u001b[0m\n\u001b[0;32m--> 948\u001b[0;31m         \u001b[0mself\u001b[0m\u001b[0;34m.\u001b[0m\u001b[0m_make_engine\u001b[0m\u001b[0;34m(\u001b[0m\u001b[0mself\u001b[0m\u001b[0;34m.\u001b[0m\u001b[0mengine\u001b[0m\u001b[0;34m)\u001b[0m\u001b[0;34m\u001b[0m\u001b[0;34m\u001b[0m\u001b[0m\n\u001b[0m\u001b[1;32m    949\u001b[0m \u001b[0;34m\u001b[0m\u001b[0m\n\u001b[1;32m    950\u001b[0m     \u001b[0;32mdef\u001b[0m \u001b[0mclose\u001b[0m\u001b[0;34m(\u001b[0m\u001b[0mself\u001b[0m\u001b[0;34m)\u001b[0m\u001b[0;34m:\u001b[0m\u001b[0;34m\u001b[0m\u001b[0;34m\u001b[0m\u001b[0m\n",
            "\u001b[0;32m/usr/local/lib/python3.7/dist-packages/pandas/io/parsers.py\u001b[0m in \u001b[0;36m_make_engine\u001b[0;34m(self, engine)\u001b[0m\n\u001b[1;32m   1178\u001b[0m     \u001b[0;32mdef\u001b[0m \u001b[0m_make_engine\u001b[0m\u001b[0;34m(\u001b[0m\u001b[0mself\u001b[0m\u001b[0;34m,\u001b[0m \u001b[0mengine\u001b[0m\u001b[0;34m=\u001b[0m\u001b[0;34m\"c\"\u001b[0m\u001b[0;34m)\u001b[0m\u001b[0;34m:\u001b[0m\u001b[0;34m\u001b[0m\u001b[0;34m\u001b[0m\u001b[0m\n\u001b[1;32m   1179\u001b[0m         \u001b[0;32mif\u001b[0m \u001b[0mengine\u001b[0m \u001b[0;34m==\u001b[0m \u001b[0;34m\"c\"\u001b[0m\u001b[0;34m:\u001b[0m\u001b[0;34m\u001b[0m\u001b[0;34m\u001b[0m\u001b[0m\n\u001b[0;32m-> 1180\u001b[0;31m             \u001b[0mself\u001b[0m\u001b[0;34m.\u001b[0m\u001b[0m_engine\u001b[0m \u001b[0;34m=\u001b[0m \u001b[0mCParserWrapper\u001b[0m\u001b[0;34m(\u001b[0m\u001b[0mself\u001b[0m\u001b[0;34m.\u001b[0m\u001b[0mf\u001b[0m\u001b[0;34m,\u001b[0m \u001b[0;34m**\u001b[0m\u001b[0mself\u001b[0m\u001b[0;34m.\u001b[0m\u001b[0moptions\u001b[0m\u001b[0;34m)\u001b[0m\u001b[0;34m\u001b[0m\u001b[0;34m\u001b[0m\u001b[0m\n\u001b[0m\u001b[1;32m   1181\u001b[0m         \u001b[0;32melse\u001b[0m\u001b[0;34m:\u001b[0m\u001b[0;34m\u001b[0m\u001b[0;34m\u001b[0m\u001b[0m\n\u001b[1;32m   1182\u001b[0m             \u001b[0;32mif\u001b[0m \u001b[0mengine\u001b[0m \u001b[0;34m==\u001b[0m \u001b[0;34m\"python\"\u001b[0m\u001b[0;34m:\u001b[0m\u001b[0;34m\u001b[0m\u001b[0;34m\u001b[0m\u001b[0m\n",
            "\u001b[0;32m/usr/local/lib/python3.7/dist-packages/pandas/io/parsers.py\u001b[0m in \u001b[0;36m__init__\u001b[0;34m(self, src, **kwds)\u001b[0m\n\u001b[1;32m   2008\u001b[0m         \u001b[0mkwds\u001b[0m\u001b[0;34m[\u001b[0m\u001b[0;34m\"usecols\"\u001b[0m\u001b[0;34m]\u001b[0m \u001b[0;34m=\u001b[0m \u001b[0mself\u001b[0m\u001b[0;34m.\u001b[0m\u001b[0musecols\u001b[0m\u001b[0;34m\u001b[0m\u001b[0;34m\u001b[0m\u001b[0m\n\u001b[1;32m   2009\u001b[0m \u001b[0;34m\u001b[0m\u001b[0m\n\u001b[0;32m-> 2010\u001b[0;31m         \u001b[0mself\u001b[0m\u001b[0;34m.\u001b[0m\u001b[0m_reader\u001b[0m \u001b[0;34m=\u001b[0m \u001b[0mparsers\u001b[0m\u001b[0;34m.\u001b[0m\u001b[0mTextReader\u001b[0m\u001b[0;34m(\u001b[0m\u001b[0msrc\u001b[0m\u001b[0;34m,\u001b[0m \u001b[0;34m**\u001b[0m\u001b[0mkwds\u001b[0m\u001b[0;34m)\u001b[0m\u001b[0;34m\u001b[0m\u001b[0;34m\u001b[0m\u001b[0m\n\u001b[0m\u001b[1;32m   2011\u001b[0m         \u001b[0mself\u001b[0m\u001b[0;34m.\u001b[0m\u001b[0munnamed_cols\u001b[0m \u001b[0;34m=\u001b[0m \u001b[0mself\u001b[0m\u001b[0;34m.\u001b[0m\u001b[0m_reader\u001b[0m\u001b[0;34m.\u001b[0m\u001b[0munnamed_cols\u001b[0m\u001b[0;34m\u001b[0m\u001b[0;34m\u001b[0m\u001b[0m\n\u001b[1;32m   2012\u001b[0m \u001b[0;34m\u001b[0m\u001b[0m\n",
            "\u001b[0;32mpandas/_libs/parsers.pyx\u001b[0m in \u001b[0;36mpandas._libs.parsers.TextReader.__cinit__\u001b[0;34m()\u001b[0m\n",
            "\u001b[0;32mpandas/_libs/parsers.pyx\u001b[0m in \u001b[0;36mpandas._libs.parsers.TextReader._setup_parser_source\u001b[0;34m()\u001b[0m\n",
            "\u001b[0;31mFileNotFoundError\u001b[0m: [Errno 2] No such file or directory: 'Solana1.csv'"
          ]
        }
      ]
    },
    {
      "cell_type": "markdown",
      "metadata": {
        "id": "bgnmJhwn6LZ0"
      },
      "source": [
        "**#Alterando nome da coluna \"Ultimo\" para \"Fechamento\"**\n",
        "\n",
        "\n"
      ]
    },
    {
      "cell_type": "code",
      "metadata": {
        "colab": {
          "base_uri": "https://localhost:8080/",
          "height": 223
        },
        "id": "8MfrIA0q4zPr",
        "outputId": "64af4c9a-e422-4051-ae11-9c96af655306"
      },
      "source": [
        "#Alterando nome da coluna \"Ultimo\" para \"Fechamento\"\n",
        "bd = bd.rename(columns={'Último': 'Fechamento'})\n",
        "\n",
        "#ler novamente o bd com o nome da coluna \"Fechamento\" incluído\n",
        "bd.head()"
      ],
      "execution_count": null,
      "outputs": [
        {
          "output_type": "error",
          "ename": "NameError",
          "evalue": "ignored",
          "traceback": [
            "\u001b[0;31m---------------------------------------------------------------------------\u001b[0m",
            "\u001b[0;31mNameError\u001b[0m                                 Traceback (most recent call last)",
            "\u001b[0;32m<ipython-input-2-236a60efa0f8>\u001b[0m in \u001b[0;36m<module>\u001b[0;34m()\u001b[0m\n\u001b[1;32m      1\u001b[0m \u001b[0;31m#Alterando nome da coluna \"Ultimo\" para \"Fechamento\"\u001b[0m\u001b[0;34m\u001b[0m\u001b[0;34m\u001b[0m\u001b[0;34m\u001b[0m\u001b[0m\n\u001b[0;32m----> 2\u001b[0;31m \u001b[0mbd\u001b[0m \u001b[0;34m=\u001b[0m \u001b[0mbd\u001b[0m\u001b[0;34m.\u001b[0m\u001b[0mrename\u001b[0m\u001b[0;34m(\u001b[0m\u001b[0mcolumns\u001b[0m\u001b[0;34m=\u001b[0m\u001b[0;34m{\u001b[0m\u001b[0;34m'Último'\u001b[0m\u001b[0;34m:\u001b[0m \u001b[0;34m'Fechamento'\u001b[0m\u001b[0;34m}\u001b[0m\u001b[0;34m)\u001b[0m\u001b[0;34m\u001b[0m\u001b[0;34m\u001b[0m\u001b[0m\n\u001b[0m\u001b[1;32m      3\u001b[0m \u001b[0;34m\u001b[0m\u001b[0m\n\u001b[1;32m      4\u001b[0m \u001b[0;31m#ler novamente o bd com o nome da coluna \"Fechamento\" incluído\u001b[0m\u001b[0;34m\u001b[0m\u001b[0;34m\u001b[0m\u001b[0;34m\u001b[0m\u001b[0m\n\u001b[1;32m      5\u001b[0m \u001b[0mbd\u001b[0m\u001b[0;34m.\u001b[0m\u001b[0mhead\u001b[0m\u001b[0;34m(\u001b[0m\u001b[0;34m)\u001b[0m\u001b[0;34m\u001b[0m\u001b[0;34m\u001b[0m\u001b[0m\n",
            "\u001b[0;31mNameError\u001b[0m: name 'bd' is not defined"
          ]
        }
      ]
    },
    {
      "cell_type": "markdown",
      "metadata": {
        "id": "sgG62mbbSEld"
      },
      "source": [
        "**Verificando os tipos de dados de cada coluna**"
      ]
    },
    {
      "cell_type": "code",
      "metadata": {
        "id": "iepFDy3NOyMm"
      },
      "source": [
        "# Verificando os tipos de dados de cada coluna\n",
        "\n",
        "bd.dtypes"
      ],
      "execution_count": null,
      "outputs": []
    },
    {
      "cell_type": "code",
      "metadata": {
        "id": "5cIsppNwCV6T"
      },
      "source": [
        "bd.describe()"
      ],
      "execution_count": null,
      "outputs": []
    },
    {
      "cell_type": "markdown",
      "metadata": {
        "id": "LMFkrmH2SH_a"
      },
      "source": [
        "**Os dados estão em String. Vamos alterar para Float e Data**\n",
        "\n"
      ]
    },
    {
      "cell_type": "code",
      "metadata": {
        "id": "vhN9y5KNcjXs"
      },
      "source": [
        "#bd['Data'] = pd.to_datetime(bd['Data']).dt.date #alterando a string para formato datatime\n",
        "#bd['Fechamento'] = bd['Fechamento'].astype(float)#alterando o tipo de dados de string para float\n",
        "#bd['Abertura'] = bd['Abertura'].str.replace(',','.') #substituindo a , pelo .\n",
        "#bd['Abertura'] = bd['Abertura'].astype(float)#alterando o tipo de dados de string para float\n",
        "#bd['Máxima'] = bd['Máxima'].str.replace(',','.') #substituindo a , pelo .\n",
        "#bd['Máxima'] = bd['Máxima'].astype(float)#alterando o tipo de dados de string para float\n",
        "#bd['Mínima'] = bd['Mínima'].str.replace(',','.') #substituindo a , pelo .\n",
        "#bd['Mínima'] = bd['Mínima'].astype(float)#alterando o tipo de dados de string para float"
      ],
      "execution_count": null,
      "outputs": []
    },
    {
      "cell_type": "markdown",
      "metadata": {
        "id": "vhDWVN816a2j"
      },
      "source": [
        "**Incluindo a coluna \"DATA\" como Index da tabela**\n"
      ]
    },
    {
      "cell_type": "code",
      "metadata": {
        "id": "49Hdvxou9ntE"
      },
      "source": [
        "bd = bd.set_index('Data')\n",
        "\n",
        "#retirando os valores nulos da tabela\n",
        "bd=bd.dropna()\n",
        "\n",
        "#verificando as alterações\n",
        "bd.head()\n"
      ],
      "execution_count": null,
      "outputs": []
    },
    {
      "cell_type": "markdown",
      "metadata": {
        "id": "G0U-ne5G-QfI"
      },
      "source": [
        ""
      ]
    },
    {
      "cell_type": "code",
      "metadata": {
        "id": "1hNqdjUv-pBu"
      },
      "source": [
        "#Criando um gráfico dinamico\n",
        "#No gráfico é possível filtrar pela legenda a informação\n",
        "#Utilizar zoons\n",
        "\n",
        "\n",
        "#Importar as bibliotecas para criar um dashboard\n",
        "import plotly.graph_objects as Dash\n",
        "\n",
        "#definindo uma figura\n",
        "Figura=Dash.Figure()\n",
        "\n",
        "#Incluindo eixo no gráfico (ABERTURA)\n",
        "\n",
        "Figura.add_trace(Dash.Scatter(x=bd.index, y=bd.Abertura, \n",
        "                              mode='lines', \n",
        "                              name='Abertura', \n",
        "                              marker_color='#ff7f0e', \n",
        "                              visible = \"legendonly\"))\n",
        "\n",
        "#Incluindo eixo no gráfico (Máxima)\n",
        "Figura.add_trace(Dash.Scatter(x=bd.index, y=bd.Máxima, \n",
        "                              mode='lines', \n",
        "                              name='Máxima', \n",
        "                              marker_color='#2CA02C', \n",
        "                              visible = \"legendonly\"))\n",
        "\n",
        "#Incluindo eixo no gráfico (Minima)\n",
        "Figura.add_trace(Dash.Scatter(x=bd.index, y=bd.Mínima, \n",
        "                              mode='lines', \n",
        "                              name='Mínima', \n",
        "                              marker_color='#D62728', \n",
        "                              visible = \"legendonly\"))\n",
        "\n",
        "#Incluindo eixo no gráfico (Fechamento)\n",
        "Figura.add_trace(Dash.Scatter(x=bd.index, y=bd.Fechamento, \n",
        "                              mode='lines', \n",
        "                              name='Fechamento', \n",
        "                              marker_color='#17FFB4', \n",
        "                              visible = \"legendonly\"))\n",
        "\n",
        "#Modificando o layout do gráfico\n",
        "Figura.update_layout(\n",
        "    title='Histórico de Preço',#Titulo\n",
        "    titlefont_size =28, #Tamanho da fonte\n",
        "    \n",
        "    #parametros para mexer no eixo X\n",
        "      xaxis=dict(\n",
        "        title='Preço Histórico', #Titulo do eixo X\n",
        "        titlefont_size = 16, #Tamanho da fonte do título\n",
        "        tickfont_size = 14), #Tamanho da fonte do eixo \n",
        "    \n",
        "    #parametros para mexer no eixo Y\n",
        "      yaxis=dict(\n",
        "        title='Preço em Dólar', #Titulo do eixo Y\n",
        "        titlefont_size = 16, #Tamanho da fonte do título\n",
        "        tickfont_size = 14), #Tamanho da fonte do eixo \n",
        "\n",
        "        #parametros para mexer na legenda\n",
        "        legend=dict(\n",
        "            y=1, x=1, #posição da legenda\n",
        "            bgcolor='rgb(255,255,255,0)',#cor do fundo\n",
        "            bordercolor= 'rgb(255,255,255,0)'))  #cor da borda     \n",
        "\n",
        "Figura.show()\n",
        "\n",
        "\n"
      ],
      "execution_count": null,
      "outputs": []
    },
    {
      "cell_type": "code",
      "metadata": {
        "id": "Oze9vmCtAoBd"
      },
      "source": [
        "bd.dtypes"
      ],
      "execution_count": null,
      "outputs": []
    },
    {
      "cell_type": "markdown",
      "metadata": {
        "id": "HbkiRXQoKwpY"
      },
      "source": [
        "**Ajustando a base de dados para o modelo**"
      ]
    },
    {
      "cell_type": "code",
      "metadata": {
        "id": "5RxXM6w1EtG3"
      },
      "source": [
        "#Filtrando os dados de Fechamento\n",
        "Dados_Fechamento = bd.filter(['Fechamento'])\n",
        "\n",
        "#Filtrando apenas os valores\n",
        "Dados_Fechamento_Valores = Dados_Fechamento.values\n",
        "\n",
        "#Arredondando o número para cima usando 'Math.Ceil'\n",
        "Dados_Fechamento_Valores_Tamanho = math.ceil(len(Dados_Fechamento_Valores)* .8)\n",
        "\n",
        "Dados_Fechamento_Valores_Tamanho"
      ],
      "execution_count": null,
      "outputs": []
    },
    {
      "cell_type": "markdown",
      "metadata": {
        "id": "1Rixci0ZNQPd"
      },
      "source": [
        "**Aplicando Escalonamento nos Dados**"
      ]
    },
    {
      "cell_type": "code",
      "metadata": {
        "id": "rRuvEAx3NPdn"
      },
      "source": [
        "from sklearn.preprocessing import MinMaxScaler\n",
        "#aplicando escalonamento nos dados\n",
        "#Definindo os parametros para a funçao escalonamento\n",
        "Funcao_Escalonamento_01 = MinMaxScaler()\n",
        "\n",
        "Dados_Escalonados_Fechamento = Funcao_Escalonamento_01.fit_transform(Dados_Fechamento_Valores)\n",
        "\n",
        "Dados_Escalonados_Fechamento"
      ],
      "execution_count": null,
      "outputs": []
    },
    {
      "cell_type": "markdown",
      "metadata": {
        "id": "GlWPLBdNPHG6"
      },
      "source": [
        "**Definindo os dados de Treinameto**"
      ]
    },
    {
      "cell_type": "code",
      "metadata": {
        "id": "kTRBJBUZPTnw"
      },
      "source": [
        "Dados_treino = Dados_Escalonados_Fechamento\n",
        "\n",
        "\n",
        "#Lista para receber os dados\n",
        "x_treinamento = []\n",
        "y_treinamento = []\n",
        "\n",
        "#Loop para separar os dados de treino e teste\n",
        "#Nesse loop vamos separar os dados em bloco de 60 valores\n",
        "for Loop in range (60, len(Dados_treino)):\n",
        "\n",
        "  #Separando os dados de treinamento x\n",
        "  Filtro_Amostra_Treinamento_x = Dados_treino[Loop-60:Loop,0]\n",
        "  x_treinamento.append(Filtro_Amostra_Treinamento_x)\n",
        "\n",
        "  #Separando os dados de treinamento y\n",
        "  Filtro_Amostra_Treinamento_y = Dados_treino[Loop,0]\n",
        "  y_treinamento.append(Filtro_Amostra_Treinamento_y)"
      ],
      "execution_count": null,
      "outputs": []
    },
    {
      "cell_type": "markdown",
      "metadata": {
        "id": "MlkbZlfOR5kp"
      },
      "source": [
        "**#Transformando as listas em ARRAY**"
      ]
    },
    {
      "cell_type": "code",
      "metadata": {
        "id": "uzZyrdzwRPVd"
      },
      "source": [
        "#Transformando as listas em ARRAY\n",
        "x_treinamento, y_treinamento =np.array(x_treinamento), np.array(y_treinamento)\n",
        "\n",
        "#Convertendo array para matriz\n",
        "\n",
        "x_treinamento = np.reshape(x_treinamento,(x_treinamento.shape[0], x_treinamento.shape[1], 1))\n",
        "\n",
        "#Verificação da demisao da Matriz\n",
        "\n",
        "x_treinamento.shape"
      ],
      "execution_count": null,
      "outputs": []
    },
    {
      "cell_type": "markdown",
      "metadata": {
        "id": "RUoQR12SVF6t"
      },
      "source": [
        "**Vamos treinar nosso modelo com o Keras**\n",
        "\n",
        "O Gradient Descent é a função usada para minimização do erro dos pesos do modelo\n",
        "\n",
        "Os erros são calculados usando técnicas como Mean Squared Error."
      ]
    },
    {
      "cell_type": "code",
      "metadata": {
        "id": "Cl26kntcVDad"
      },
      "source": [
        "# Importando as libs responsáveis pelo treinamento do Keras\n",
        "from keras.models import Sequential\n",
        "from keras.layers import Dense, LSTM\n",
        "\n",
        "#Definindo a função do keras\n",
        "#Essa função é uma pilha linear de camadas do keras\n",
        "Modelo = Sequential()\n",
        "\n",
        "#Adicionando camadas e parametros para  nossa rede neural\n",
        "#Treinamento da rede neural recorrente\n",
        "\n",
        "#LSTM - Long Short Term - Memory\n",
        "Modelo.add(LSTM(50, return_sequences = True,\n",
        "                input_shape = (x_treinamento.shape[1], 1)))\n",
        "Modelo.add(LSTM(50, return_sequences= False))\n",
        "\n",
        "#Adicionando as camadas na rede neural\n",
        "Modelo.add(Dense(25))\n",
        "Modelo.add(Dense(1))\n",
        "Modelo.compile(optimizer = 'adam', loss = 'mean_squared_error')\n",
        "\n",
        "#Treinando o modelo\n",
        "Modelo.fit(x_treinamento, y_treinamento, batch_size = 1, epochs = 1)\n",
        "\n",
        "\n",
        "\n",
        "\n",
        "\n",
        "\n"
      ],
      "execution_count": null,
      "outputs": []
    },
    {
      "cell_type": "code",
      "metadata": {
        "id": "lb3ty2pmEsyQ"
      },
      "source": [
        "# Definindo amostra para ser testada\n",
        "Dados_Teste = Dados_Escalonados_Fechamento[Dados_Fechamento_Valores_Tamanho - 60: , :]\n",
        "# Lista para recever os dados de teste\n",
        "x_teste = []\n",
        "# Lista com os dados de teste\n",
        "y_Teste = Dados_Fechamento_Valores[Dados_Fechamento_Valores_Tamanho:, :]\n",
        "\n",
        "# Loop para fixar amostra para teste\n",
        "for Loop in range (60, len(Dados_Teste)):\n",
        "    x_teste.append(Dados_Teste[Loop - 60:Loop, 0])\n",
        "\n",
        "# Transformando os dados em um array\n",
        "x_teste = np.array(x_teste)\n",
        "# Convertendo o array para Matriz\n",
        "x_teste = np.reshape(x_teste, (x_teste.shape[0], x_teste.shape[1], 1))\n",
        "\n",
        "# Aplicando as Previsões\n",
        "Previsoes = Modelo.predict(x_teste)\n",
        "# Invertendo para escalas reais \n",
        "Previsoes = Funcao_Escalonamento_01.inverse_transform(Previsoes)\n",
        "\n",
        "# Calculando o erro quadrático médio\n",
        "rsme = np.sqrt(np.mean(Previsoes - y_Teste) ** 2)\n",
        "print('Erro Quadrático Médio:', rsme )"
      ],
      "execution_count": null,
      "outputs": []
    },
    {
      "cell_type": "code",
      "metadata": {
        "id": "WMfhoV39InTG"
      },
      "source": [
        "# Criando a base para verificar o real x modelo\n",
        "Validação = Dados_Fechamento[Dados_Fechamento_Valores_Tamanho:]\n",
        "\n",
        "# Atribuindo as previsões no DataSet\n",
        "Validação['Previsões'] = Previsoes"
      ],
      "execution_count": null,
      "outputs": []
    },
    {
      "cell_type": "code",
      "metadata": {
        "id": "d3yE2FOWSn0-"
      },
      "source": [
        "# Verificando o real vs modelo\n",
        "Validação[['Fechamento','Previsões']].head(60)"
      ],
      "execution_count": null,
      "outputs": []
    },
    {
      "cell_type": "code",
      "metadata": {
        "id": "s9kNIcFMUXdC"
      },
      "source": [
        "# Criando um Gráfico Dinâmico\n",
        "# No gráfico é possivel filtrar pela legenda a informação\n",
        "# Utlizar zoons\n",
        "\n",
        "# Definindo uma figura\n",
        "Figura = Dash.Figure()\n",
        "\n",
        "# Incluindo o Eixo no Gráfico - Fechamento\n",
        "Figura.add_trace(Dash.Scatter(x = Validação.index, y = Validação.Fechamento, \n",
        "                    mode='lines',\n",
        "                    name='Fechamento',\n",
        "                    marker_color = '#FF7F0E',\n",
        "                    ))\n",
        "\n",
        "# Incluindo o Eixo no Gráfico - Previsão\n",
        "Figura.add_trace(Dash.Scatter(x = Validação.index, y = Validação.Previsões,\n",
        "                    mode='lines',\n",
        "                    name='Previsão',\n",
        "                    marker_color = '#2CA02C',\n",
        "                    ))\n",
        "\n",
        "# Modificando o Layout do Gráfico\n",
        "Figura.update_layout(\n",
        "    title='Realizado vs Modelo de Previsão Solana', # Titulo\n",
        "    titlefont_size = 28, # Tamanho da Fonte\n",
        "    \n",
        "    # Parametros para mexer no eixo X\n",
        "    xaxis = dict( \n",
        "        title='Período Histórico', # Titulo do Eixo x\n",
        "        titlefont_size=16, # Tamanho fonte do Titulo \n",
        "        tickfont_size=14), # Tamanho da fonte do eixo \n",
        "\n",
        "    # Tamanho do Grafico\n",
        "    height = 500, \n",
        "    \n",
        "    # Parametros para mexer no eixo y\n",
        "    yaxis=dict(\n",
        "        title='Preço em Dólar', # Titulo do Eixo y\n",
        "        titlefont_size=16, # Tamanho fonte do Titulo \n",
        "        tickfont_size=14), # Tamanho da fonte do eixo \n",
        "    \n",
        "    # Parametros para mexer na legenda\n",
        "    legend=dict(\n",
        "        y=1, x=1, # Posição da Legenda\n",
        "        bgcolor='rgba(255, 255, 255, 0)', # Cor de fundo\n",
        "        bordercolor='rgba(255, 255, 255, 0)')) # Cor da Bornda\n",
        "\n",
        "# Mostrando o Gráfico\n",
        "Figura.show()"
      ],
      "execution_count": null,
      "outputs": []
    }
  ]
}