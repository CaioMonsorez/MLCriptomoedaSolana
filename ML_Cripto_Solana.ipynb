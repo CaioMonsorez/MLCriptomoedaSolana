{
  "nbformat": 4,
  "nbformat_minor": 0,
  "metadata": {
    "colab": {
      "name": "ML Cripto Solana",
      "provenance": [],
      "collapsed_sections": [],
      "mount_file_id": "1sQCk-aiCVvjv9LJ-OCatPMR6rBzeneJO",
      "authorship_tag": "ABX9TyOscTmlUKAAlxoeRQZJo4Ts",
      "include_colab_link": true
    },
    "kernelspec": {
      "name": "python3",
      "display_name": "Python 3"
    },
    "language_info": {
      "name": "python"
    }
  },
  "cells": [
    {
      "cell_type": "markdown",
      "metadata": {
        "id": "view-in-github",
        "colab_type": "text"
      },
      "source": [
        "<a href=\"https://colab.research.google.com/github/CaioMonsorez/MLCriptomoedaSolana/blob/main/ML_Cripto_Solana.ipynb\" target=\"_parent\"><img src=\"https://colab.research.google.com/assets/colab-badge.svg\" alt=\"Open In Colab\"/></a>"
      ]
    },
    {
      "cell_type": "markdown",
      "metadata": {
        "id": "KgWMXWM26d0u"
      },
      "source": [
        "###**UTILIZAÇÃO DE REDES NEURAIS RECORRENTES (RNN) PARA PREDIÇÃO DE PREÇO DE AÇÕES DA CRIPTOMOEDA SOLANA**\n",
        "\n",
        "![images.jpg](data:image/jpeg;base64,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)\n"
      ]
    },
    {
      "cell_type": "markdown",
      "metadata": {
        "id": "xjy4slZI7z7o"
      },
      "source": [
        "A Solana é uma moeda digital descentralizada, que surgiu com a finalidade de substituir os \n",
        "meios de pagamento atuais, porém ele enfrenta grandes desconfianças dos investidores e usuários\n",
        "devido à volatilidade de seus valores. Uma forma de mitigar essa volatilidade é aplicar inteligência\n",
        "computacional baseada em algoritmos de aprendizado de máquina, com o intuito de predizer\n",
        "os valores de sua cotação. Este trabalho busca aplicar uma Rede Neural Recorrente (RNN)\n",
        "utilizando-se da série histórica da Solana para realizar a predição da curva relativa ao valor\n",
        "de fechamento diário. Para realizar o treinamento do algoritmo, foi utilizada a base de dados\n",
        "Investing.com. Os dados utilizados são relativos à paridade SOLUSD no\n",
        "período de 01/01/2021 até 08/09/2021. Diversos indicadores foram avaliados e combinados para\n",
        "verificar a qualidade da geração do modelo, porém o melhor resultado obtido utilizou apenas\n",
        "o indicador de curva (valor de fechamento diário) com uma raiz quadrada do erro quadrático\n",
        "médio (do Inglês root mean square error - RMSE) de 260.137, sendo esse valor um parâmetro\n",
        "para pesquisas futuras\n"
      ]
    },
    {
      "cell_type": "markdown",
      "metadata": {
        "id": "KBgCdyVb6CVZ"
      },
      "source": [
        "**Importando a Base de dados extraída da investing.com**"
      ]
    },
    {
      "cell_type": "code",
      "metadata": {
        "colab": {
          "base_uri": "https://localhost:8080/",
          "height": 206
        },
        "id": "xscM-hMhgnqr",
        "outputId": "b72d412e-c4f8-41a4-a98a-71bb57f6ed78"
      },
      "source": [
        "import pandas as pd\n",
        "import numpy as np\n",
        "import math\n",
        "\n",
        "bd = pd.read_csv('Solana1.csv')\n",
        "\n",
        "bd.head()"
      ],
      "execution_count": 1,
      "outputs": [
        {
          "output_type": "execute_result",
          "data": {
            "text/html": [
              "<div>\n",
              "<style scoped>\n",
              "    .dataframe tbody tr th:only-of-type {\n",
              "        vertical-align: middle;\n",
              "    }\n",
              "\n",
              "    .dataframe tbody tr th {\n",
              "        vertical-align: top;\n",
              "    }\n",
              "\n",
              "    .dataframe thead th {\n",
              "        text-align: right;\n",
              "    }\n",
              "</style>\n",
              "<table border=\"1\" class=\"dataframe\">\n",
              "  <thead>\n",
              "    <tr style=\"text-align: right;\">\n",
              "      <th></th>\n",
              "      <th>Data</th>\n",
              "      <th>Último</th>\n",
              "      <th>Abertura</th>\n",
              "      <th>Máxima</th>\n",
              "      <th>Mínima</th>\n",
              "      <th>Vol.</th>\n",
              "      <th>Var%</th>\n",
              "    </tr>\n",
              "  </thead>\n",
              "  <tbody>\n",
              "    <tr>\n",
              "      <th>0</th>\n",
              "      <td>2021-09-08</td>\n",
              "      <td>190.91</td>\n",
              "      <td>173.47</td>\n",
              "      <td>197.42</td>\n",
              "      <td>147.00</td>\n",
              "      <td>16,67M</td>\n",
              "      <td>10,57%</td>\n",
              "    </tr>\n",
              "    <tr>\n",
              "      <th>1</th>\n",
              "      <td>2021-09-07</td>\n",
              "      <td>172.66</td>\n",
              "      <td>164.06</td>\n",
              "      <td>194.93</td>\n",
              "      <td>133.98</td>\n",
              "      <td>24,37M</td>\n",
              "      <td>5,16%</td>\n",
              "    </tr>\n",
              "    <tr>\n",
              "      <th>2</th>\n",
              "      <td>2021-09-06</td>\n",
              "      <td>164.19</td>\n",
              "      <td>141.92</td>\n",
              "      <td>165.92</td>\n",
              "      <td>137.01</td>\n",
              "      <td>8,44M</td>\n",
              "      <td>15,61%</td>\n",
              "    </tr>\n",
              "    <tr>\n",
              "      <th>3</th>\n",
              "      <td>2021-09-05</td>\n",
              "      <td>142.02</td>\n",
              "      <td>138.93</td>\n",
              "      <td>144.98</td>\n",
              "      <td>134.96</td>\n",
              "      <td>4,62M</td>\n",
              "      <td>2,18%</td>\n",
              "    </tr>\n",
              "    <tr>\n",
              "      <th>4</th>\n",
              "      <td>2021-09-04</td>\n",
              "      <td>138.99</td>\n",
              "      <td>146.22</td>\n",
              "      <td>150.46</td>\n",
              "      <td>135.94</td>\n",
              "      <td>6,13M</td>\n",
              "      <td>-5,02%</td>\n",
              "    </tr>\n",
              "  </tbody>\n",
              "</table>\n",
              "</div>"
            ],
            "text/plain": [
              "         Data  Último  Abertura  Máxima  Mínima    Vol.    Var%\n",
              "0  2021-09-08  190.91    173.47  197.42  147.00  16,67M  10,57%\n",
              "1  2021-09-07  172.66    164.06  194.93  133.98  24,37M   5,16%\n",
              "2  2021-09-06  164.19    141.92  165.92  137.01   8,44M  15,61%\n",
              "3  2021-09-05  142.02    138.93  144.98  134.96   4,62M   2,18%\n",
              "4  2021-09-04  138.99    146.22  150.46  135.94   6,13M  -5,02%"
            ]
          },
          "metadata": {},
          "execution_count": 1
        }
      ]
    },
    {
      "cell_type": "markdown",
      "metadata": {
        "id": "bgnmJhwn6LZ0"
      },
      "source": [
        "**#Alterando nome da coluna \"Ultimo\" para \"Fechamento\"**\n",
        "\n",
        "\n"
      ]
    },
    {
      "cell_type": "code",
      "metadata": {
        "colab": {
          "base_uri": "https://localhost:8080/",
          "height": 206
        },
        "id": "8MfrIA0q4zPr",
        "outputId": "5fe27ab1-142c-4d1a-c927-72e888086a92"
      },
      "source": [
        "#Alterando nome da coluna \"Ultimo\" para \"Fechamento\"\n",
        "bd = bd.rename(columns={'Último': 'Fechamento'})\n",
        "\n",
        "#ler novamente o bd com o nome da coluna \"Fechamento\" incluído\n",
        "bd.head()"
      ],
      "execution_count": 2,
      "outputs": [
        {
          "output_type": "execute_result",
          "data": {
            "text/html": [
              "<div>\n",
              "<style scoped>\n",
              "    .dataframe tbody tr th:only-of-type {\n",
              "        vertical-align: middle;\n",
              "    }\n",
              "\n",
              "    .dataframe tbody tr th {\n",
              "        vertical-align: top;\n",
              "    }\n",
              "\n",
              "    .dataframe thead th {\n",
              "        text-align: right;\n",
              "    }\n",
              "</style>\n",
              "<table border=\"1\" class=\"dataframe\">\n",
              "  <thead>\n",
              "    <tr style=\"text-align: right;\">\n",
              "      <th></th>\n",
              "      <th>Data</th>\n",
              "      <th>Fechamento</th>\n",
              "      <th>Abertura</th>\n",
              "      <th>Máxima</th>\n",
              "      <th>Mínima</th>\n",
              "      <th>Vol.</th>\n",
              "      <th>Var%</th>\n",
              "    </tr>\n",
              "  </thead>\n",
              "  <tbody>\n",
              "    <tr>\n",
              "      <th>0</th>\n",
              "      <td>2021-09-08</td>\n",
              "      <td>190.91</td>\n",
              "      <td>173.47</td>\n",
              "      <td>197.42</td>\n",
              "      <td>147.00</td>\n",
              "      <td>16,67M</td>\n",
              "      <td>10,57%</td>\n",
              "    </tr>\n",
              "    <tr>\n",
              "      <th>1</th>\n",
              "      <td>2021-09-07</td>\n",
              "      <td>172.66</td>\n",
              "      <td>164.06</td>\n",
              "      <td>194.93</td>\n",
              "      <td>133.98</td>\n",
              "      <td>24,37M</td>\n",
              "      <td>5,16%</td>\n",
              "    </tr>\n",
              "    <tr>\n",
              "      <th>2</th>\n",
              "      <td>2021-09-06</td>\n",
              "      <td>164.19</td>\n",
              "      <td>141.92</td>\n",
              "      <td>165.92</td>\n",
              "      <td>137.01</td>\n",
              "      <td>8,44M</td>\n",
              "      <td>15,61%</td>\n",
              "    </tr>\n",
              "    <tr>\n",
              "      <th>3</th>\n",
              "      <td>2021-09-05</td>\n",
              "      <td>142.02</td>\n",
              "      <td>138.93</td>\n",
              "      <td>144.98</td>\n",
              "      <td>134.96</td>\n",
              "      <td>4,62M</td>\n",
              "      <td>2,18%</td>\n",
              "    </tr>\n",
              "    <tr>\n",
              "      <th>4</th>\n",
              "      <td>2021-09-04</td>\n",
              "      <td>138.99</td>\n",
              "      <td>146.22</td>\n",
              "      <td>150.46</td>\n",
              "      <td>135.94</td>\n",
              "      <td>6,13M</td>\n",
              "      <td>-5,02%</td>\n",
              "    </tr>\n",
              "  </tbody>\n",
              "</table>\n",
              "</div>"
            ],
            "text/plain": [
              "         Data  Fechamento  Abertura  Máxima  Mínima    Vol.    Var%\n",
              "0  2021-09-08      190.91    173.47  197.42  147.00  16,67M  10,57%\n",
              "1  2021-09-07      172.66    164.06  194.93  133.98  24,37M   5,16%\n",
              "2  2021-09-06      164.19    141.92  165.92  137.01   8,44M  15,61%\n",
              "3  2021-09-05      142.02    138.93  144.98  134.96   4,62M   2,18%\n",
              "4  2021-09-04      138.99    146.22  150.46  135.94   6,13M  -5,02%"
            ]
          },
          "metadata": {},
          "execution_count": 2
        }
      ]
    },
    {
      "cell_type": "markdown",
      "metadata": {
        "id": "sgG62mbbSEld"
      },
      "source": [
        "**Verificando os tipos de dados de cada coluna**"
      ]
    },
    {
      "cell_type": "code",
      "metadata": {
        "id": "iepFDy3NOyMm",
        "colab": {
          "base_uri": "https://localhost:8080/"
        },
        "outputId": "2717c240-47f6-437c-83a7-76cee0060713"
      },
      "source": [
        "# Verificando os tipos de dados de cada coluna\n",
        "\n",
        "bd.dtypes"
      ],
      "execution_count": 3,
      "outputs": [
        {
          "output_type": "execute_result",
          "data": {
            "text/plain": [
              "Data           object\n",
              "Fechamento    float64\n",
              "Abertura      float64\n",
              "Máxima        float64\n",
              "Mínima        float64\n",
              "Vol.           object\n",
              "Var%           object\n",
              "dtype: object"
            ]
          },
          "metadata": {},
          "execution_count": 3
        }
      ]
    },
    {
      "cell_type": "code",
      "metadata": {
        "id": "5cIsppNwCV6T",
        "colab": {
          "base_uri": "https://localhost:8080/",
          "height": 300
        },
        "outputId": "bc13b4a8-6610-435b-f9c9-88a6101a9619"
      },
      "source": [
        "bd.describe()"
      ],
      "execution_count": 4,
      "outputs": [
        {
          "output_type": "execute_result",
          "data": {
            "text/html": [
              "<div>\n",
              "<style scoped>\n",
              "    .dataframe tbody tr th:only-of-type {\n",
              "        vertical-align: middle;\n",
              "    }\n",
              "\n",
              "    .dataframe tbody tr th {\n",
              "        vertical-align: top;\n",
              "    }\n",
              "\n",
              "    .dataframe thead th {\n",
              "        text-align: right;\n",
              "    }\n",
              "</style>\n",
              "<table border=\"1\" class=\"dataframe\">\n",
              "  <thead>\n",
              "    <tr style=\"text-align: right;\">\n",
              "      <th></th>\n",
              "      <th>Fechamento</th>\n",
              "      <th>Abertura</th>\n",
              "      <th>Máxima</th>\n",
              "      <th>Mínima</th>\n",
              "    </tr>\n",
              "  </thead>\n",
              "  <tbody>\n",
              "    <tr>\n",
              "      <th>count</th>\n",
              "      <td>111.000000</td>\n",
              "      <td>111.000000</td>\n",
              "      <td>111.000000</td>\n",
              "      <td>111.000000</td>\n",
              "    </tr>\n",
              "    <tr>\n",
              "      <th>mean</th>\n",
              "      <td>48.948721</td>\n",
              "      <td>47.613730</td>\n",
              "      <td>51.588207</td>\n",
              "      <td>44.948477</td>\n",
              "    </tr>\n",
              "    <tr>\n",
              "      <th>std</th>\n",
              "      <td>33.898667</td>\n",
              "      <td>31.063967</td>\n",
              "      <td>35.919155</td>\n",
              "      <td>28.701711</td>\n",
              "    </tr>\n",
              "    <tr>\n",
              "      <th>min</th>\n",
              "      <td>23.478000</td>\n",
              "      <td>23.494000</td>\n",
              "      <td>24.971000</td>\n",
              "      <td>21.460000</td>\n",
              "    </tr>\n",
              "    <tr>\n",
              "      <th>25%</th>\n",
              "      <td>31.168500</td>\n",
              "      <td>31.177500</td>\n",
              "      <td>32.611500</td>\n",
              "      <td>28.671000</td>\n",
              "    </tr>\n",
              "    <tr>\n",
              "      <th>50%</th>\n",
              "      <td>35.484000</td>\n",
              "      <td>35.533000</td>\n",
              "      <td>36.918000</td>\n",
              "      <td>33.398000</td>\n",
              "    </tr>\n",
              "    <tr>\n",
              "      <th>75%</th>\n",
              "      <td>42.136500</td>\n",
              "      <td>42.018000</td>\n",
              "      <td>44.431500</td>\n",
              "      <td>40.666500</td>\n",
              "    </tr>\n",
              "    <tr>\n",
              "      <th>max</th>\n",
              "      <td>190.910000</td>\n",
              "      <td>173.470000</td>\n",
              "      <td>197.420000</td>\n",
              "      <td>147.000000</td>\n",
              "    </tr>\n",
              "  </tbody>\n",
              "</table>\n",
              "</div>"
            ],
            "text/plain": [
              "       Fechamento    Abertura      Máxima      Mínima\n",
              "count  111.000000  111.000000  111.000000  111.000000\n",
              "mean    48.948721   47.613730   51.588207   44.948477\n",
              "std     33.898667   31.063967   35.919155   28.701711\n",
              "min     23.478000   23.494000   24.971000   21.460000\n",
              "25%     31.168500   31.177500   32.611500   28.671000\n",
              "50%     35.484000   35.533000   36.918000   33.398000\n",
              "75%     42.136500   42.018000   44.431500   40.666500\n",
              "max    190.910000  173.470000  197.420000  147.000000"
            ]
          },
          "metadata": {},
          "execution_count": 4
        }
      ]
    },
    {
      "cell_type": "markdown",
      "metadata": {
        "id": "LMFkrmH2SH_a"
      },
      "source": [
        "**Os dados estão em String. Vamos alterar para Float e Data**\n",
        "\n"
      ]
    },
    {
      "cell_type": "code",
      "metadata": {
        "id": "vhN9y5KNcjXs"
      },
      "source": [
        "#bd['Data'] = pd.to_datetime(bd['Data']).dt.date #alterando a string para formato datatime\n",
        "#bd['Fechamento'] = bd['Fechamento'].astype(float)#alterando o tipo de dados de string para float\n",
        "#bd['Abertura'] = bd['Abertura'].str.replace(',','.') #substituindo a , pelo .\n",
        "#bd['Abertura'] = bd['Abertura'].astype(float)#alterando o tipo de dados de string para float\n",
        "#bd['Máxima'] = bd['Máxima'].str.replace(',','.') #substituindo a , pelo .\n",
        "#bd['Máxima'] = bd['Máxima'].astype(float)#alterando o tipo de dados de string para float\n",
        "#bd['Mínima'] = bd['Mínima'].str.replace(',','.') #substituindo a , pelo .\n",
        "#bd['Mínima'] = bd['Mínima'].astype(float)#alterando o tipo de dados de string para float"
      ],
      "execution_count": 5,
      "outputs": []
    },
    {
      "cell_type": "markdown",
      "metadata": {
        "id": "vhDWVN816a2j"
      },
      "source": [
        "**Incluindo a coluna \"DATA\" como Index da tabela**\n"
      ]
    },
    {
      "cell_type": "code",
      "metadata": {
        "id": "49Hdvxou9ntE",
        "colab": {
          "base_uri": "https://localhost:8080/",
          "height": 237
        },
        "outputId": "fdeb647f-3a01-4164-a55d-8e174a4e99ae"
      },
      "source": [
        "bd = bd.set_index('Data')\n",
        "\n",
        "#retirando os valores nulos da tabela\n",
        "bd=bd.dropna()\n",
        "\n",
        "#verificando as alterações\n",
        "bd.head()\n"
      ],
      "execution_count": 6,
      "outputs": [
        {
          "output_type": "execute_result",
          "data": {
            "text/html": [
              "<div>\n",
              "<style scoped>\n",
              "    .dataframe tbody tr th:only-of-type {\n",
              "        vertical-align: middle;\n",
              "    }\n",
              "\n",
              "    .dataframe tbody tr th {\n",
              "        vertical-align: top;\n",
              "    }\n",
              "\n",
              "    .dataframe thead th {\n",
              "        text-align: right;\n",
              "    }\n",
              "</style>\n",
              "<table border=\"1\" class=\"dataframe\">\n",
              "  <thead>\n",
              "    <tr style=\"text-align: right;\">\n",
              "      <th></th>\n",
              "      <th>Fechamento</th>\n",
              "      <th>Abertura</th>\n",
              "      <th>Máxima</th>\n",
              "      <th>Mínima</th>\n",
              "      <th>Vol.</th>\n",
              "      <th>Var%</th>\n",
              "    </tr>\n",
              "    <tr>\n",
              "      <th>Data</th>\n",
              "      <th></th>\n",
              "      <th></th>\n",
              "      <th></th>\n",
              "      <th></th>\n",
              "      <th></th>\n",
              "      <th></th>\n",
              "    </tr>\n",
              "  </thead>\n",
              "  <tbody>\n",
              "    <tr>\n",
              "      <th>2021-09-08</th>\n",
              "      <td>190.91</td>\n",
              "      <td>173.47</td>\n",
              "      <td>197.42</td>\n",
              "      <td>147.00</td>\n",
              "      <td>16,67M</td>\n",
              "      <td>10,57%</td>\n",
              "    </tr>\n",
              "    <tr>\n",
              "      <th>2021-09-07</th>\n",
              "      <td>172.66</td>\n",
              "      <td>164.06</td>\n",
              "      <td>194.93</td>\n",
              "      <td>133.98</td>\n",
              "      <td>24,37M</td>\n",
              "      <td>5,16%</td>\n",
              "    </tr>\n",
              "    <tr>\n",
              "      <th>2021-09-06</th>\n",
              "      <td>164.19</td>\n",
              "      <td>141.92</td>\n",
              "      <td>165.92</td>\n",
              "      <td>137.01</td>\n",
              "      <td>8,44M</td>\n",
              "      <td>15,61%</td>\n",
              "    </tr>\n",
              "    <tr>\n",
              "      <th>2021-09-05</th>\n",
              "      <td>142.02</td>\n",
              "      <td>138.93</td>\n",
              "      <td>144.98</td>\n",
              "      <td>134.96</td>\n",
              "      <td>4,62M</td>\n",
              "      <td>2,18%</td>\n",
              "    </tr>\n",
              "    <tr>\n",
              "      <th>2021-09-04</th>\n",
              "      <td>138.99</td>\n",
              "      <td>146.22</td>\n",
              "      <td>150.46</td>\n",
              "      <td>135.94</td>\n",
              "      <td>6,13M</td>\n",
              "      <td>-5,02%</td>\n",
              "    </tr>\n",
              "  </tbody>\n",
              "</table>\n",
              "</div>"
            ],
            "text/plain": [
              "            Fechamento  Abertura  Máxima  Mínima    Vol.    Var%\n",
              "Data                                                            \n",
              "2021-09-08      190.91    173.47  197.42  147.00  16,67M  10,57%\n",
              "2021-09-07      172.66    164.06  194.93  133.98  24,37M   5,16%\n",
              "2021-09-06      164.19    141.92  165.92  137.01   8,44M  15,61%\n",
              "2021-09-05      142.02    138.93  144.98  134.96   4,62M   2,18%\n",
              "2021-09-04      138.99    146.22  150.46  135.94   6,13M  -5,02%"
            ]
          },
          "metadata": {},
          "execution_count": 6
        }
      ]
    },
    {
      "cell_type": "markdown",
      "metadata": {
        "id": "G0U-ne5G-QfI"
      },
      "source": [
        ""
      ]
    },
    {
      "cell_type": "code",
      "metadata": {
        "id": "1hNqdjUv-pBu",
        "colab": {
          "base_uri": "https://localhost:8080/",
          "height": 542
        },
        "outputId": "2e4ccd73-e822-4a4f-c19e-04b608d09c56"
      },
      "source": [
        "#Criando um gráfico dinamico\n",
        "#No gráfico é possível filtrar pela legenda a informação\n",
        "#Utilizar zoons\n",
        "\n",
        "\n",
        "#Importar as bibliotecas para criar um dashboard\n",
        "import plotly.graph_objects as Dash\n",
        "\n",
        "#definindo uma figura\n",
        "Figura=Dash.Figure()\n",
        "\n",
        "#Incluindo eixo no gráfico (ABERTURA)\n",
        "\n",
        "Figura.add_trace(Dash.Scatter(x=bd.index, y=bd.Abertura, \n",
        "                              mode='lines', \n",
        "                              name='Abertura', \n",
        "                              marker_color='#ff7f0e', \n",
        "                              visible = \"legendonly\"))\n",
        "\n",
        "#Incluindo eixo no gráfico (Máxima)\n",
        "Figura.add_trace(Dash.Scatter(x=bd.index, y=bd.Máxima, \n",
        "                              mode='lines', \n",
        "                              name='Máxima', \n",
        "                              marker_color='#2CA02C', \n",
        "                              visible = \"legendonly\"))\n",
        "\n",
        "#Incluindo eixo no gráfico (Minima)\n",
        "Figura.add_trace(Dash.Scatter(x=bd.index, y=bd.Mínima, \n",
        "                              mode='lines', \n",
        "                              name='Mínima', \n",
        "                              marker_color='#D62728', \n",
        "                              visible = \"legendonly\"))\n",
        "\n",
        "#Incluindo eixo no gráfico (Fechamento)\n",
        "Figura.add_trace(Dash.Scatter(x=bd.index, y=bd.Fechamento, \n",
        "                              mode='lines', \n",
        "                              name='Fechamento', \n",
        "                              marker_color='#17FFB4', \n",
        "                              visible = \"legendonly\"))\n",
        "\n",
        "#Modificando o layout do gráfico\n",
        "Figura.update_layout(\n",
        "    title='Histórico de Preço',#Titulo\n",
        "    titlefont_size =28, #Tamanho da fonte\n",
        "    \n",
        "    #parametros para mexer no eixo X\n",
        "      xaxis=dict(\n",
        "        title='Preço Histórico', #Titulo do eixo X\n",
        "        titlefont_size = 16, #Tamanho da fonte do título\n",
        "        tickfont_size = 14), #Tamanho da fonte do eixo \n",
        "    \n",
        "    #parametros para mexer no eixo Y\n",
        "      yaxis=dict(\n",
        "        title='Preço em Dólar', #Titulo do eixo Y\n",
        "        titlefont_size = 16, #Tamanho da fonte do título\n",
        "        tickfont_size = 14), #Tamanho da fonte do eixo \n",
        "\n",
        "        #parametros para mexer na legenda\n",
        "        legend=dict(\n",
        "            y=1, x=1, #posição da legenda\n",
        "            bgcolor='rgb(255,255,255,0)',#cor do fundo\n",
        "            bordercolor= 'rgb(255,255,255,0)'))  #cor da borda     \n",
        "\n",
        "Figura.show()\n",
        "\n",
        "\n"
      ],
      "execution_count": 7,
      "outputs": [
        {
          "output_type": "display_data",
          "data": {
            "text/html": [
              "<html>\n",
              "<head><meta charset=\"utf-8\" /></head>\n",
              "<body>\n",
              "    <div>\n",
              "            <script src=\"https://cdnjs.cloudflare.com/ajax/libs/mathjax/2.7.5/MathJax.js?config=TeX-AMS-MML_SVG\"></script><script type=\"text/javascript\">if (window.MathJax) {MathJax.Hub.Config({SVG: {font: \"STIX-Web\"}});}</script>\n",
              "                <script type=\"text/javascript\">window.PlotlyConfig = {MathJaxConfig: 'local'};</script>\n",
              "        <script src=\"https://cdn.plot.ly/plotly-latest.min.js\"></script>    \n",
              "            <div id=\"935d27b4-de87-4618-a414-6b1ec5e74079\" class=\"plotly-graph-div\" style=\"height:525px; width:100%;\"></div>\n",
              "            <script type=\"text/javascript\">\n",
              "                \n",
              "                    window.PLOTLYENV=window.PLOTLYENV || {};\n",
              "                    \n",
              "                if (document.getElementById(\"935d27b4-de87-4618-a414-6b1ec5e74079\")) {\n",
              "                    Plotly.newPlot(\n",
              "                        '935d27b4-de87-4618-a414-6b1ec5e74079',\n",
              "                        [{\"marker\": {\"color\": \"#ff7f0e\"}, \"mode\": \"lines\", \"name\": \"Abertura\", \"type\": \"scatter\", \"visible\": \"legendonly\", \"x\": [\"2021-09-08\", \"2021-09-07\", \"2021-09-06\", \"2021-09-05\", \"2021-09-04\", \"2021-09-03\", \"2021-09-02\", \"2021-09-01\", \"2021-08-31\", \"2021-08-30\", \"2021-08-29\", \"2021-08-28\", \"2021-08-27\", \"2021-08-26\", \"2021-08-25\", \"2021-08-24\", \"2021-08-23\", \"2021-08-22\", \"2021-08-21\", \"2021-08-20\", \"2021-08-19\", \"2021-08-18\", \"2021-08-17\", \"2021-08-16\", \"2021-08-15\", \"2021-08-14\", \"2021-08-13\", \"2021-08-12\", \"2021-08-11\", \"2021-08-10\", \"2021-08-09\", \"2021-08-08\", \"2021-08-07\", \"2021-08-06\", \"2021-08-05\", \"2021-08-04\", \"2021-08-03\", \"2021-08-02\", \"2021-08-01\", \"2021-07-31\", \"2021-07-30\", \"2021-07-29\", \"2021-07-28\", \"2021-07-27\", \"2021-07-26\", \"2021-07-25\", \"2021-07-24\", \"2021-07-23\", \"2021-07-22\", \"2021-07-21\", \"2021-07-20\", \"2021-07-19\", \"2021-07-18\", \"2021-07-17\", \"2021-07-16\", \"2021-07-15\", \"2021-07-14\", \"2021-07-13\", \"2021-07-12\", \"2021-07-11\", \"2021-07-10\", \"2021-07-09\", \"2021-07-08\", \"2021-07-07\", \"2021-07-06\", \"2021-07-05\", \"2021-07-04\", \"2021-07-03\", \"2021-07-02\", \"2021-07-01\", \"2021-06-30\", \"2021-06-29\", \"2021-06-28\", \"2021-06-27\", \"2021-06-26\", \"2021-06-25\", \"2021-06-24\", \"2021-06-23\", \"2021-06-22\", \"2021-06-21\", \"2021-06-20\", \"2021-06-19\", \"2021-06-18\", \"2021-06-17\", \"2021-06-16\", \"2021-06-15\", \"2021-06-14\", \"2021-06-13\", \"2021-06-12\", \"2021-06-11\", \"2021-06-10\", \"2021-06-09\", \"2021-06-08\", \"2021-06-07\", \"2021-06-06\", \"2021-06-05\", \"2021-06-04\", \"2021-06-03\", \"2021-06-02\", \"2021-06-01\", \"2021-05-31\", \"2021-05-30\", \"2021-05-29\", \"2021-05-28\", \"2021-05-27\", \"2021-05-26\", \"2021-05-25\", \"2021-05-24\", \"2021-05-23\", \"2021-05-22\", \"2021-05-21\"], \"y\": [173.47, 164.06, 141.92, 138.93, 146.22, 128.58, 110.66, 108.11, 109.93, 94.0, 96.25, 87.98, 74.86, 72.008, 70.515, 75.632, 72.743, 73.828, 78.684, 72.8, 72.938, 63.923, 62.018, 53.648, 44.145, 44.842, 41.119, 41.635, 40.66, 38.656, 37.661, 39.5, 39.522, 37.357, 35.798, 34.094, 33.167, 34.086, 36.742, 32.400999999999996, 31.235, 27.845, 28.115, 28.184, 28.255, 28.680999999999997, 28.592, 27.691999999999997, 26.679000000000002, 23.494, 24.465999999999998, 26.581999999999997, 26.793000000000003, 26.258000000000003, 28.573, 31.241999999999997, 29.156, 30.77, 32.167, 31.738000000000003, 33.343, 32.306, 36.673, 34.166, 32.896, 34.247, 35.105, 34.022, 33.235, 35.533, 33.92, 33.1, 31.885, 29.676, 28.623, 31.171999999999997, 30.765, 26.84, 26.732, 35.461, 35.205999999999996, 36.766, 39.266999999999996, 39.692, 39.525999999999996, 39.678000000000004, 38.83, 36.494, 36.154, 40.979, 41.813, 41.096000000000004, 38.073, 42.223, 39.549, 37.459, 39.488, 34.0, 31.034000000000002, 32.641, 28.45, 27.416999999999998, 28.989, 33.504, 35.28, 29.99, 31.284000000000002, 24.604, 31.183000000000003, 38.744, 44.402]}, {\"marker\": {\"color\": \"#2CA02C\"}, \"mode\": \"lines\", \"name\": \"M\\u00e1xima\", \"type\": \"scatter\", \"visible\": \"legendonly\", \"x\": [\"2021-09-08\", \"2021-09-07\", \"2021-09-06\", \"2021-09-05\", \"2021-09-04\", \"2021-09-03\", \"2021-09-02\", \"2021-09-01\", \"2021-08-31\", \"2021-08-30\", \"2021-08-29\", \"2021-08-28\", \"2021-08-27\", \"2021-08-26\", \"2021-08-25\", \"2021-08-24\", \"2021-08-23\", \"2021-08-22\", \"2021-08-21\", \"2021-08-20\", \"2021-08-19\", \"2021-08-18\", \"2021-08-17\", \"2021-08-16\", \"2021-08-15\", \"2021-08-14\", \"2021-08-13\", \"2021-08-12\", \"2021-08-11\", \"2021-08-10\", \"2021-08-09\", \"2021-08-08\", \"2021-08-07\", \"2021-08-06\", \"2021-08-05\", \"2021-08-04\", \"2021-08-03\", \"2021-08-02\", \"2021-08-01\", \"2021-07-31\", \"2021-07-30\", \"2021-07-29\", \"2021-07-28\", \"2021-07-27\", \"2021-07-26\", \"2021-07-25\", \"2021-07-24\", \"2021-07-23\", \"2021-07-22\", \"2021-07-21\", \"2021-07-20\", \"2021-07-19\", \"2021-07-18\", \"2021-07-17\", \"2021-07-16\", \"2021-07-15\", \"2021-07-14\", \"2021-07-13\", \"2021-07-12\", \"2021-07-11\", \"2021-07-10\", \"2021-07-09\", \"2021-07-08\", \"2021-07-07\", \"2021-07-06\", \"2021-07-05\", \"2021-07-04\", \"2021-07-03\", \"2021-07-02\", \"2021-07-01\", \"2021-06-30\", \"2021-06-29\", \"2021-06-28\", \"2021-06-27\", \"2021-06-26\", \"2021-06-25\", \"2021-06-24\", \"2021-06-23\", \"2021-06-22\", \"2021-06-21\", \"2021-06-20\", \"2021-06-19\", \"2021-06-18\", \"2021-06-17\", \"2021-06-16\", \"2021-06-15\", \"2021-06-14\", \"2021-06-13\", \"2021-06-12\", \"2021-06-11\", \"2021-06-10\", \"2021-06-09\", \"2021-06-08\", \"2021-06-07\", \"2021-06-06\", \"2021-06-05\", \"2021-06-04\", \"2021-06-03\", \"2021-06-02\", \"2021-06-01\", \"2021-05-31\", \"2021-05-30\", \"2021-05-29\", \"2021-05-28\", \"2021-05-27\", \"2021-05-26\", \"2021-05-25\", \"2021-05-24\", \"2021-05-23\", \"2021-05-22\", \"2021-05-21\"], \"y\": [197.42, 194.93, 165.92, 144.98, 150.46, 148.82, 131.89, 119.56, 129.97, 116.36, 97.77, 97.81, 88.88, 78.15, 72.7, 79.33800000000001, 76.59, 77.5, 81.813, 79.95100000000001, 75.249, 80.257, 75.042, 68.952, 54.631, 44.863, 44.909, 43.4, 43.728, 41.635, 39.991, 39.525999999999996, 40.482, 40.388000000000005, 38.251999999999995, 36.658, 35.843, 35.929, 36.792, 36.907, 33.051, 31.874000000000002, 28.749000000000002, 28.930999999999997, 31.096999999999998, 28.680999999999997, 29.454, 28.695, 28.158, 27.421, 24.971, 26.671999999999997, 27.734, 27.703000000000003, 29.426, 31.484, 31.430999999999997, 31.072, 32.677, 32.528, 34.174, 34.376999999999995, 36.918, 38.012, 34.539, 34.247, 35.4, 35.238, 34.049, 35.533, 35.75, 35.641, 33.799, 31.892, 29.829, 32.571999999999996, 32.650999999999996, 31.58, 27.892, 35.461, 35.726, 37.2, 39.266999999999996, 40.817, 39.601, 40.941, 39.733000000000004, 38.734, 37.080999999999996, 40.979, 42.538999999999994, 43.31, 41.674, 44.0, 43.158, 42.29600000000001, 39.525, 40.166, 34.53, 32.74, 32.814, 29.288, 29.401, 33.537, 35.28, 35.449, 31.284000000000002, 31.644000000000002, 31.183000000000003, 39.681999999999995, 47.103]}, {\"marker\": {\"color\": \"#D62728\"}, \"mode\": \"lines\", \"name\": \"M\\u00ednima\", \"type\": \"scatter\", \"visible\": \"legendonly\", \"x\": [\"2021-09-08\", \"2021-09-07\", \"2021-09-06\", \"2021-09-05\", \"2021-09-04\", \"2021-09-03\", \"2021-09-02\", \"2021-09-01\", \"2021-08-31\", \"2021-08-30\", \"2021-08-29\", \"2021-08-28\", \"2021-08-27\", \"2021-08-26\", \"2021-08-25\", \"2021-08-24\", \"2021-08-23\", \"2021-08-22\", \"2021-08-21\", \"2021-08-20\", \"2021-08-19\", \"2021-08-18\", \"2021-08-17\", \"2021-08-16\", \"2021-08-15\", \"2021-08-14\", \"2021-08-13\", \"2021-08-12\", \"2021-08-11\", \"2021-08-10\", \"2021-08-09\", \"2021-08-08\", \"2021-08-07\", \"2021-08-06\", \"2021-08-05\", \"2021-08-04\", \"2021-08-03\", \"2021-08-02\", \"2021-08-01\", \"2021-07-31\", \"2021-07-30\", \"2021-07-29\", \"2021-07-28\", \"2021-07-27\", \"2021-07-26\", \"2021-07-25\", \"2021-07-24\", \"2021-07-23\", \"2021-07-22\", \"2021-07-21\", \"2021-07-20\", \"2021-07-19\", \"2021-07-18\", \"2021-07-17\", \"2021-07-16\", \"2021-07-15\", \"2021-07-14\", \"2021-07-13\", \"2021-07-12\", \"2021-07-11\", \"2021-07-10\", \"2021-07-09\", \"2021-07-08\", \"2021-07-07\", \"2021-07-06\", \"2021-07-05\", \"2021-07-04\", \"2021-07-03\", \"2021-07-02\", \"2021-07-01\", \"2021-06-30\", \"2021-06-29\", \"2021-06-28\", \"2021-06-27\", \"2021-06-26\", \"2021-06-25\", \"2021-06-24\", \"2021-06-23\", \"2021-06-22\", \"2021-06-21\", \"2021-06-20\", \"2021-06-19\", \"2021-06-18\", \"2021-06-17\", \"2021-06-16\", \"2021-06-15\", \"2021-06-14\", \"2021-06-13\", \"2021-06-12\", \"2021-06-11\", \"2021-06-10\", \"2021-06-09\", \"2021-06-08\", \"2021-06-07\", \"2021-06-06\", \"2021-06-05\", \"2021-06-04\", \"2021-06-03\", \"2021-06-02\", \"2021-06-01\", \"2021-05-31\", \"2021-05-30\", \"2021-05-29\", \"2021-05-28\", \"2021-05-27\", \"2021-05-26\", \"2021-05-25\", \"2021-05-24\", \"2021-05-23\", \"2021-05-22\", \"2021-05-21\"], \"y\": [147.0, 133.98, 137.01, 134.96, 135.94, 128.58, 109.26, 106.0, 103.37, 93.68, 90.81, 85.63, 72.9, 66.28, 66.282, 68.617, 71.57, 71.405, 72.67699999999999, 70.922, 68.515, 59.827, 59.126999999999995, 52.396, 43.371, 42.772, 40.696, 39.37, 40.637, 38.251999999999995, 36.356, 36.91, 37.521, 35.68, 35.542, 33.259, 32.376, 33.033, 33.352, 31.677, 30.0, 27.319000000000003, 27.378, 26.934, 27.898000000000003, 26.545, 28.266, 26.415, 25.94, 22.842, 22.116, 24.02, 26.31, 26.017, 26.229, 28.011, 27.414, 28.943, 30.073, 31.375, 31.028000000000002, 32.044000000000004, 32.988, 34.166, 32.896, 32.907, 34.305, 33.398, 31.514, 32.88, 31.967, 33.1, 31.338, 29.676, 27.278000000000002, 28.663, 28.679000000000002, 26.84, 22.543000000000003, 26.738000000000003, 32.863, 35.185, 35.799, 38.942, 37.82, 39.533, 37.328, 35.388000000000005, 34.866, 36.018, 40.93, 40.218, 35.771, 38.177, 39.549, 37.459, 35.436, 34.0, 30.840999999999998, 30.357, 27.601, 26.121, 26.003, 28.509, 31.746, 29.99, 26.943, 24.604, 21.46, 31.147, 36.141999999999996]}, {\"marker\": {\"color\": \"#17FFB4\"}, \"mode\": \"lines\", \"name\": \"Fechamento\", \"type\": \"scatter\", \"visible\": \"legendonly\", \"x\": [\"2021-09-08\", \"2021-09-07\", \"2021-09-06\", \"2021-09-05\", \"2021-09-04\", \"2021-09-03\", \"2021-09-02\", \"2021-09-01\", \"2021-08-31\", \"2021-08-30\", \"2021-08-29\", \"2021-08-28\", \"2021-08-27\", \"2021-08-26\", \"2021-08-25\", \"2021-08-24\", \"2021-08-23\", \"2021-08-22\", \"2021-08-21\", \"2021-08-20\", \"2021-08-19\", \"2021-08-18\", \"2021-08-17\", \"2021-08-16\", \"2021-08-15\", \"2021-08-14\", \"2021-08-13\", \"2021-08-12\", \"2021-08-11\", \"2021-08-10\", \"2021-08-09\", \"2021-08-08\", \"2021-08-07\", \"2021-08-06\", \"2021-08-05\", \"2021-08-04\", \"2021-08-03\", \"2021-08-02\", \"2021-08-01\", \"2021-07-31\", \"2021-07-30\", \"2021-07-29\", \"2021-07-28\", \"2021-07-27\", \"2021-07-26\", \"2021-07-25\", \"2021-07-24\", \"2021-07-23\", \"2021-07-22\", \"2021-07-21\", \"2021-07-20\", \"2021-07-19\", \"2021-07-18\", \"2021-07-17\", \"2021-07-16\", \"2021-07-15\", \"2021-07-14\", \"2021-07-13\", \"2021-07-12\", \"2021-07-11\", \"2021-07-10\", \"2021-07-09\", \"2021-07-08\", \"2021-07-07\", \"2021-07-06\", \"2021-07-05\", \"2021-07-04\", \"2021-07-03\", \"2021-07-02\", \"2021-07-01\", \"2021-06-30\", \"2021-06-29\", \"2021-06-28\", \"2021-06-27\", \"2021-06-26\", \"2021-06-25\", \"2021-06-24\", \"2021-06-23\", \"2021-06-22\", \"2021-06-21\", \"2021-06-20\", \"2021-06-19\", \"2021-06-18\", \"2021-06-17\", \"2021-06-16\", \"2021-06-15\", \"2021-06-14\", \"2021-06-13\", \"2021-06-12\", \"2021-06-11\", \"2021-06-10\", \"2021-06-09\", \"2021-06-08\", \"2021-06-07\", \"2021-06-06\", \"2021-06-05\", \"2021-06-04\", \"2021-06-03\", \"2021-06-02\", \"2021-06-01\", \"2021-05-31\", \"2021-05-30\", \"2021-05-29\", \"2021-05-28\", \"2021-05-27\", \"2021-05-26\", \"2021-05-25\", \"2021-05-24\", \"2021-05-23\", \"2021-05-22\", \"2021-05-21\"], \"y\": [190.91, 172.66, 164.19, 142.02, 138.99, 146.34, 128.34, 110.68, 108.38, 110.25, 94.2, 96.51, 87.99, 74.88, 71.904, 70.626, 75.749, 72.639, 73.83, 78.587, 72.845, 72.801, 64.15899999999999, 62.122, 53.48, 44.144, 44.858000000000004, 41.073, 41.662, 40.635999999999996, 38.671, 37.654, 39.469, 39.435, 37.348, 35.768, 34.075, 33.19, 34.175, 36.846, 32.344, 31.281, 27.873, 28.1, 28.237, 28.24, 28.772, 28.519000000000002, 27.698, 26.659000000000002, 23.478, 24.493000000000002, 26.666999999999998, 26.706999999999997, 26.271, 28.515, 31.357, 29.131999999999998, 30.875, 32.162, 31.693, 33.264, 33.203, 36.695, 33.751, 32.908, 34.305, 34.852, 34.049, 33.297, 35.484, 33.842, 32.942, 31.892, 29.673000000000002, 28.663, 31.19, 30.871, 26.791, 26.738000000000003, 35.23, 35.185, 36.73, 39.236999999999995, 39.601, 39.533, 39.733000000000004, 38.734, 36.375, 36.018, 41.026, 42.023999999999994, 41.24, 38.177, 42.248999999999995, 39.746, 37.387, 39.6, 33.904, 30.962, 32.814, 28.586, 27.342, 29.0, 33.747, 35.449, 30.075, 31.38, 24.621, 31.147, 38.887]}],\n",
              "                        {\"legend\": {\"bgcolor\": \"rgb(255,255,255,0)\", \"bordercolor\": \"rgb(255,255,255,0)\", \"x\": 1, \"y\": 1}, \"template\": {\"data\": {\"bar\": [{\"error_x\": {\"color\": \"#2a3f5f\"}, \"error_y\": {\"color\": \"#2a3f5f\"}, \"marker\": {\"line\": {\"color\": \"#E5ECF6\", \"width\": 0.5}}, \"type\": \"bar\"}], \"barpolar\": [{\"marker\": {\"line\": {\"color\": \"#E5ECF6\", \"width\": 0.5}}, \"type\": \"barpolar\"}], \"carpet\": [{\"aaxis\": {\"endlinecolor\": \"#2a3f5f\", \"gridcolor\": \"white\", \"linecolor\": \"white\", \"minorgridcolor\": \"white\", \"startlinecolor\": \"#2a3f5f\"}, \"baxis\": {\"endlinecolor\": \"#2a3f5f\", \"gridcolor\": \"white\", \"linecolor\": \"white\", \"minorgridcolor\": \"white\", \"startlinecolor\": \"#2a3f5f\"}, \"type\": \"carpet\"}], \"choropleth\": [{\"colorbar\": {\"outlinewidth\": 0, \"ticks\": \"\"}, \"type\": \"choropleth\"}], \"contour\": [{\"colorbar\": {\"outlinewidth\": 0, \"ticks\": \"\"}, \"colorscale\": [[0.0, \"#0d0887\"], [0.1111111111111111, \"#46039f\"], [0.2222222222222222, \"#7201a8\"], [0.3333333333333333, \"#9c179e\"], [0.4444444444444444, \"#bd3786\"], [0.5555555555555556, \"#d8576b\"], [0.6666666666666666, \"#ed7953\"], [0.7777777777777778, \"#fb9f3a\"], [0.8888888888888888, \"#fdca26\"], [1.0, \"#f0f921\"]], \"type\": \"contour\"}], \"contourcarpet\": [{\"colorbar\": {\"outlinewidth\": 0, \"ticks\": \"\"}, \"type\": \"contourcarpet\"}], \"heatmap\": [{\"colorbar\": {\"outlinewidth\": 0, \"ticks\": \"\"}, \"colorscale\": [[0.0, \"#0d0887\"], [0.1111111111111111, \"#46039f\"], [0.2222222222222222, \"#7201a8\"], [0.3333333333333333, \"#9c179e\"], [0.4444444444444444, \"#bd3786\"], [0.5555555555555556, \"#d8576b\"], [0.6666666666666666, \"#ed7953\"], [0.7777777777777778, \"#fb9f3a\"], [0.8888888888888888, \"#fdca26\"], [1.0, \"#f0f921\"]], \"type\": \"heatmap\"}], \"heatmapgl\": [{\"colorbar\": {\"outlinewidth\": 0, \"ticks\": \"\"}, \"colorscale\": [[0.0, \"#0d0887\"], [0.1111111111111111, \"#46039f\"], [0.2222222222222222, \"#7201a8\"], [0.3333333333333333, \"#9c179e\"], [0.4444444444444444, \"#bd3786\"], [0.5555555555555556, \"#d8576b\"], [0.6666666666666666, \"#ed7953\"], [0.7777777777777778, \"#fb9f3a\"], [0.8888888888888888, \"#fdca26\"], [1.0, \"#f0f921\"]], \"type\": \"heatmapgl\"}], \"histogram\": [{\"marker\": {\"colorbar\": {\"outlinewidth\": 0, \"ticks\": \"\"}}, \"type\": \"histogram\"}], \"histogram2d\": [{\"colorbar\": {\"outlinewidth\": 0, \"ticks\": \"\"}, \"colorscale\": [[0.0, \"#0d0887\"], [0.1111111111111111, \"#46039f\"], [0.2222222222222222, \"#7201a8\"], [0.3333333333333333, \"#9c179e\"], [0.4444444444444444, \"#bd3786\"], [0.5555555555555556, \"#d8576b\"], [0.6666666666666666, \"#ed7953\"], [0.7777777777777778, \"#fb9f3a\"], [0.8888888888888888, \"#fdca26\"], [1.0, \"#f0f921\"]], \"type\": \"histogram2d\"}], \"histogram2dcontour\": [{\"colorbar\": {\"outlinewidth\": 0, \"ticks\": \"\"}, \"colorscale\": [[0.0, \"#0d0887\"], [0.1111111111111111, \"#46039f\"], [0.2222222222222222, \"#7201a8\"], [0.3333333333333333, \"#9c179e\"], [0.4444444444444444, \"#bd3786\"], [0.5555555555555556, \"#d8576b\"], [0.6666666666666666, \"#ed7953\"], [0.7777777777777778, \"#fb9f3a\"], [0.8888888888888888, \"#fdca26\"], [1.0, \"#f0f921\"]], \"type\": \"histogram2dcontour\"}], \"mesh3d\": [{\"colorbar\": {\"outlinewidth\": 0, \"ticks\": \"\"}, \"type\": \"mesh3d\"}], \"parcoords\": [{\"line\": {\"colorbar\": {\"outlinewidth\": 0, \"ticks\": \"\"}}, \"type\": \"parcoords\"}], \"pie\": [{\"automargin\": true, \"type\": \"pie\"}], \"scatter\": [{\"marker\": {\"colorbar\": {\"outlinewidth\": 0, \"ticks\": \"\"}}, \"type\": \"scatter\"}], \"scatter3d\": [{\"line\": {\"colorbar\": {\"outlinewidth\": 0, \"ticks\": \"\"}}, \"marker\": {\"colorbar\": {\"outlinewidth\": 0, \"ticks\": \"\"}}, \"type\": \"scatter3d\"}], \"scattercarpet\": [{\"marker\": {\"colorbar\": {\"outlinewidth\": 0, \"ticks\": \"\"}}, \"type\": \"scattercarpet\"}], \"scattergeo\": [{\"marker\": {\"colorbar\": {\"outlinewidth\": 0, \"ticks\": \"\"}}, \"type\": \"scattergeo\"}], \"scattergl\": [{\"marker\": {\"colorbar\": {\"outlinewidth\": 0, \"ticks\": \"\"}}, \"type\": \"scattergl\"}], \"scattermapbox\": [{\"marker\": {\"colorbar\": {\"outlinewidth\": 0, \"ticks\": \"\"}}, \"type\": \"scattermapbox\"}], \"scatterpolar\": [{\"marker\": {\"colorbar\": {\"outlinewidth\": 0, \"ticks\": \"\"}}, \"type\": \"scatterpolar\"}], \"scatterpolargl\": [{\"marker\": {\"colorbar\": {\"outlinewidth\": 0, \"ticks\": \"\"}}, \"type\": \"scatterpolargl\"}], \"scatterternary\": [{\"marker\": {\"colorbar\": {\"outlinewidth\": 0, \"ticks\": \"\"}}, \"type\": \"scatterternary\"}], \"surface\": [{\"colorbar\": {\"outlinewidth\": 0, \"ticks\": \"\"}, \"colorscale\": [[0.0, \"#0d0887\"], [0.1111111111111111, \"#46039f\"], [0.2222222222222222, \"#7201a8\"], [0.3333333333333333, \"#9c179e\"], [0.4444444444444444, \"#bd3786\"], [0.5555555555555556, \"#d8576b\"], [0.6666666666666666, \"#ed7953\"], [0.7777777777777778, \"#fb9f3a\"], [0.8888888888888888, \"#fdca26\"], [1.0, \"#f0f921\"]], \"type\": \"surface\"}], \"table\": [{\"cells\": {\"fill\": {\"color\": \"#EBF0F8\"}, \"line\": {\"color\": \"white\"}}, \"header\": {\"fill\": {\"color\": \"#C8D4E3\"}, \"line\": {\"color\": \"white\"}}, \"type\": \"table\"}]}, \"layout\": {\"annotationdefaults\": {\"arrowcolor\": \"#2a3f5f\", \"arrowhead\": 0, \"arrowwidth\": 1}, \"coloraxis\": {\"colorbar\": {\"outlinewidth\": 0, \"ticks\": \"\"}}, \"colorscale\": {\"diverging\": [[0, \"#8e0152\"], [0.1, \"#c51b7d\"], [0.2, \"#de77ae\"], [0.3, \"#f1b6da\"], [0.4, \"#fde0ef\"], [0.5, \"#f7f7f7\"], [0.6, \"#e6f5d0\"], [0.7, \"#b8e186\"], [0.8, \"#7fbc41\"], [0.9, \"#4d9221\"], [1, \"#276419\"]], \"sequential\": [[0.0, \"#0d0887\"], [0.1111111111111111, \"#46039f\"], [0.2222222222222222, \"#7201a8\"], [0.3333333333333333, \"#9c179e\"], [0.4444444444444444, \"#bd3786\"], [0.5555555555555556, \"#d8576b\"], [0.6666666666666666, \"#ed7953\"], [0.7777777777777778, \"#fb9f3a\"], [0.8888888888888888, \"#fdca26\"], [1.0, \"#f0f921\"]], \"sequentialminus\": [[0.0, \"#0d0887\"], [0.1111111111111111, \"#46039f\"], [0.2222222222222222, \"#7201a8\"], [0.3333333333333333, \"#9c179e\"], [0.4444444444444444, \"#bd3786\"], [0.5555555555555556, \"#d8576b\"], [0.6666666666666666, \"#ed7953\"], [0.7777777777777778, \"#fb9f3a\"], [0.8888888888888888, \"#fdca26\"], [1.0, \"#f0f921\"]]}, \"colorway\": [\"#636efa\", \"#EF553B\", \"#00cc96\", \"#ab63fa\", \"#FFA15A\", \"#19d3f3\", \"#FF6692\", \"#B6E880\", \"#FF97FF\", \"#FECB52\"], \"font\": {\"color\": \"#2a3f5f\"}, \"geo\": {\"bgcolor\": \"white\", \"lakecolor\": \"white\", \"landcolor\": \"#E5ECF6\", \"showlakes\": true, \"showland\": true, \"subunitcolor\": \"white\"}, \"hoverlabel\": {\"align\": \"left\"}, \"hovermode\": \"closest\", \"mapbox\": {\"style\": \"light\"}, \"paper_bgcolor\": \"white\", \"plot_bgcolor\": \"#E5ECF6\", \"polar\": {\"angularaxis\": {\"gridcolor\": \"white\", \"linecolor\": \"white\", \"ticks\": \"\"}, \"bgcolor\": \"#E5ECF6\", \"radialaxis\": {\"gridcolor\": \"white\", \"linecolor\": \"white\", \"ticks\": \"\"}}, \"scene\": {\"xaxis\": {\"backgroundcolor\": \"#E5ECF6\", \"gridcolor\": \"white\", \"gridwidth\": 2, \"linecolor\": \"white\", \"showbackground\": true, \"ticks\": \"\", \"zerolinecolor\": \"white\"}, \"yaxis\": {\"backgroundcolor\": \"#E5ECF6\", \"gridcolor\": \"white\", \"gridwidth\": 2, \"linecolor\": \"white\", \"showbackground\": true, \"ticks\": \"\", \"zerolinecolor\": \"white\"}, \"zaxis\": {\"backgroundcolor\": \"#E5ECF6\", \"gridcolor\": \"white\", \"gridwidth\": 2, \"linecolor\": \"white\", \"showbackground\": true, \"ticks\": \"\", \"zerolinecolor\": \"white\"}}, \"shapedefaults\": {\"line\": {\"color\": \"#2a3f5f\"}}, \"ternary\": {\"aaxis\": {\"gridcolor\": \"white\", \"linecolor\": \"white\", \"ticks\": \"\"}, \"baxis\": {\"gridcolor\": \"white\", \"linecolor\": \"white\", \"ticks\": \"\"}, \"bgcolor\": \"#E5ECF6\", \"caxis\": {\"gridcolor\": \"white\", \"linecolor\": \"white\", \"ticks\": \"\"}}, \"title\": {\"x\": 0.05}, \"xaxis\": {\"automargin\": true, \"gridcolor\": \"white\", \"linecolor\": \"white\", \"ticks\": \"\", \"title\": {\"standoff\": 15}, \"zerolinecolor\": \"white\", \"zerolinewidth\": 2}, \"yaxis\": {\"automargin\": true, \"gridcolor\": \"white\", \"linecolor\": \"white\", \"ticks\": \"\", \"title\": {\"standoff\": 15}, \"zerolinecolor\": \"white\", \"zerolinewidth\": 2}}}, \"title\": {\"font\": {\"size\": 28}, \"text\": \"Hist\\u00f3rico de Pre\\u00e7o\"}, \"xaxis\": {\"tickfont\": {\"size\": 14}, \"title\": {\"font\": {\"size\": 16}, \"text\": \"Pre\\u00e7o Hist\\u00f3rico\"}}, \"yaxis\": {\"tickfont\": {\"size\": 14}, \"title\": {\"font\": {\"size\": 16}, \"text\": \"Pre\\u00e7o em D\\u00f3lar\"}}},\n",
              "                        {\"responsive\": true}\n",
              "                    ).then(function(){\n",
              "                            \n",
              "var gd = document.getElementById('935d27b4-de87-4618-a414-6b1ec5e74079');\n",
              "var x = new MutationObserver(function (mutations, observer) {{\n",
              "        var display = window.getComputedStyle(gd).display;\n",
              "        if (!display || display === 'none') {{\n",
              "            console.log([gd, 'removed!']);\n",
              "            Plotly.purge(gd);\n",
              "            observer.disconnect();\n",
              "        }}\n",
              "}});\n",
              "\n",
              "// Listen for the removal of the full notebook cells\n",
              "var notebookContainer = gd.closest('#notebook-container');\n",
              "if (notebookContainer) {{\n",
              "    x.observe(notebookContainer, {childList: true});\n",
              "}}\n",
              "\n",
              "// Listen for the clearing of the current output cell\n",
              "var outputEl = gd.closest('.output');\n",
              "if (outputEl) {{\n",
              "    x.observe(outputEl, {childList: true});\n",
              "}}\n",
              "\n",
              "                        })\n",
              "                };\n",
              "                \n",
              "            </script>\n",
              "        </div>\n",
              "</body>\n",
              "</html>"
            ]
          },
          "metadata": {}
        }
      ]
    },
    {
      "cell_type": "code",
      "metadata": {
        "id": "Oze9vmCtAoBd",
        "colab": {
          "base_uri": "https://localhost:8080/"
        },
        "outputId": "ce1ff02a-0699-4f64-d55b-9b8109b95d00"
      },
      "source": [
        "bd.dtypes"
      ],
      "execution_count": 8,
      "outputs": [
        {
          "output_type": "execute_result",
          "data": {
            "text/plain": [
              "Fechamento    float64\n",
              "Abertura      float64\n",
              "Máxima        float64\n",
              "Mínima        float64\n",
              "Vol.           object\n",
              "Var%           object\n",
              "dtype: object"
            ]
          },
          "metadata": {},
          "execution_count": 8
        }
      ]
    },
    {
      "cell_type": "markdown",
      "metadata": {
        "id": "HbkiRXQoKwpY"
      },
      "source": [
        "**Ajustando a base de dados para o modelo**"
      ]
    },
    {
      "cell_type": "code",
      "metadata": {
        "id": "5RxXM6w1EtG3",
        "colab": {
          "base_uri": "https://localhost:8080/"
        },
        "outputId": "8e11eaf0-05fd-4733-d371-f9056c32587b"
      },
      "source": [
        "#Filtrando os dados de Fechamento\n",
        "Dados_Fechamento = bd.filter(['Fechamento'])\n",
        "\n",
        "#Filtrando apenas os valores\n",
        "Dados_Fechamento_Valores = Dados_Fechamento.values\n",
        "\n",
        "#Arredondando o número para cima usando 'Math.Ceil'\n",
        "Dados_Fechamento_Valores_Tamanho = math.ceil(len(Dados_Fechamento_Valores)* .8)\n",
        "\n",
        "Dados_Fechamento_Valores_Tamanho"
      ],
      "execution_count": 9,
      "outputs": [
        {
          "output_type": "execute_result",
          "data": {
            "text/plain": [
              "89"
            ]
          },
          "metadata": {},
          "execution_count": 9
        }
      ]
    },
    {
      "cell_type": "markdown",
      "metadata": {
        "id": "1Rixci0ZNQPd"
      },
      "source": [
        "**Aplicando Escalonamento nos Dados**"
      ]
    },
    {
      "cell_type": "code",
      "metadata": {
        "id": "rRuvEAx3NPdn",
        "colab": {
          "base_uri": "https://localhost:8080/"
        },
        "outputId": "8fb88888-a2a8-4eb9-c6b5-84e5e56d0d41"
      },
      "source": [
        "from sklearn.preprocessing import MinMaxScaler\n",
        "#aplicando escalonamento nos dados\n",
        "#Definindo os parametros para a funçao escalonamento\n",
        "Funcao_Escalonamento_01 = MinMaxScaler()\n",
        "\n",
        "Dados_Escalonados_Fechamento = Funcao_Escalonamento_01.fit_transform(Dados_Fechamento_Valores)\n",
        "\n",
        "Dados_Escalonados_Fechamento"
      ],
      "execution_count": 10,
      "outputs": [
        {
          "output_type": "execute_result",
          "data": {
            "text/plain": [
              "array([[1.        ],\n",
              "       [0.89100053],\n",
              "       [0.84041282],\n",
              "       [0.70800086],\n",
              "       [0.68990396],\n",
              "       [0.73380238],\n",
              "       [0.62629605],\n",
              "       [0.52082039],\n",
              "       [0.50708347],\n",
              "       [0.51825219],\n",
              "       [0.42239237],\n",
              "       [0.43618902],\n",
              "       [0.38530269],\n",
              "       [0.30700225],\n",
              "       [0.28922787],\n",
              "       [0.28159492],\n",
              "       [0.31219241],\n",
              "       [0.29361771],\n",
              "       [0.30073104],\n",
              "       [0.32914258],\n",
              "       [0.29484806],\n",
              "       [0.29458526],\n",
              "       [0.24297028],\n",
              "       [0.23080415],\n",
              "       [0.17918916],\n",
              "       [0.12342921],\n",
              "       [0.12769363],\n",
              "       [0.10508744],\n",
              "       [0.10860528],\n",
              "       [0.10247742],\n",
              "       [0.09074132],\n",
              "       [0.08466721],\n",
              "       [0.09550743],\n",
              "       [0.09530436],\n",
              "       [0.0828396 ],\n",
              "       [0.07340293],\n",
              "       [0.06329137],\n",
              "       [0.05800564],\n",
              "       [0.06388862],\n",
              "       [0.07984137],\n",
              "       [0.05295284],\n",
              "       [0.04660399],\n",
              "       [0.02624946],\n",
              "       [0.02760524],\n",
              "       [0.02842348],\n",
              "       [0.0284414 ],\n",
              "       [0.03161881],\n",
              "       [0.03010775],\n",
              "       [0.02520426],\n",
              "       [0.01899876],\n",
              "       [0.        ],\n",
              "       [0.00606216],\n",
              "       [0.01904654],\n",
              "       [0.01928544],\n",
              "       [0.0166814 ],\n",
              "       [0.03008385],\n",
              "       [0.04705791],\n",
              "       [0.03376893],\n",
              "       [0.04417913],\n",
              "       [0.05186583],\n",
              "       [0.04906469],\n",
              "       [0.05844761],\n",
              "       [0.05808328],\n",
              "       [0.07893951],\n",
              "       [0.06135625],\n",
              "       [0.05632137],\n",
              "       [0.06466506],\n",
              "       [0.06793206],\n",
              "       [0.06313608],\n",
              "       [0.0586447 ],\n",
              "       [0.07170672],\n",
              "       [0.06189976],\n",
              "       [0.05652444],\n",
              "       [0.05025324],\n",
              "       [0.0370001 ],\n",
              "       [0.0309678 ],\n",
              "       [0.04606049],\n",
              "       [0.04415524],\n",
              "       [0.01978714],\n",
              "       [0.01947059],\n",
              "       [0.07018969],\n",
              "       [0.06992092],\n",
              "       [0.07914855],\n",
              "       [0.09412179],\n",
              "       [0.09629581],\n",
              "       [0.09588967],\n",
              "       [0.09708419],\n",
              "       [0.09111759],\n",
              "       [0.07702829],\n",
              "       [0.07489608],\n",
              "       [0.10480673],\n",
              "       [0.11076736],\n",
              "       [0.10608486],\n",
              "       [0.08779086],\n",
              "       [0.11211119],\n",
              "       [0.09716183],\n",
              "       [0.08307253],\n",
              "       [0.09628984],\n",
              "       [0.06227006],\n",
              "       [0.04469874],\n",
              "       [0.05575995],\n",
              "       [0.03050791],\n",
              "       [0.02307803],\n",
              "       [0.03298055],\n",
              "       [0.06133236],\n",
              "       [0.07149768],\n",
              "       [0.03940107],\n",
              "       [0.04719528],\n",
              "       [0.00682665],\n",
              "       [0.04580367],\n",
              "       [0.09203139]])"
            ]
          },
          "metadata": {},
          "execution_count": 10
        }
      ]
    },
    {
      "cell_type": "markdown",
      "metadata": {
        "id": "GlWPLBdNPHG6"
      },
      "source": [
        "**Definindo os dados de Treinameto**"
      ]
    },
    {
      "cell_type": "code",
      "metadata": {
        "id": "kTRBJBUZPTnw"
      },
      "source": [
        "Dados_treino = Dados_Escalonados_Fechamento\n",
        "\n",
        "\n",
        "#Lista para receber os dados\n",
        "x_treinamento = []\n",
        "y_treinamento = []\n",
        "\n",
        "#Loop para separar os dados de treino e teste\n",
        "#Nesse loop vamos separar os dados em bloco de 60 valores\n",
        "for Loop in range (60, len(Dados_treino)):\n",
        "\n",
        "  #Separando os dados de treinamento x\n",
        "  Filtro_Amostra_Treinamento_x = Dados_treino[Loop-60:Loop,0]\n",
        "  x_treinamento.append(Filtro_Amostra_Treinamento_x)\n",
        "\n",
        "  #Separando os dados de treinamento y\n",
        "  Filtro_Amostra_Treinamento_y = Dados_treino[Loop,0]\n",
        "  y_treinamento.append(Filtro_Amostra_Treinamento_y)"
      ],
      "execution_count": 11,
      "outputs": []
    },
    {
      "cell_type": "markdown",
      "metadata": {
        "id": "MlkbZlfOR5kp"
      },
      "source": [
        "**#Transformando as listas em ARRAY**"
      ]
    },
    {
      "cell_type": "code",
      "metadata": {
        "id": "uzZyrdzwRPVd",
        "colab": {
          "base_uri": "https://localhost:8080/"
        },
        "outputId": "08cba796-5978-48ea-de03-0b6fd2b258f6"
      },
      "source": [
        "#Transformando as listas em ARRAY\n",
        "x_treinamento, y_treinamento =np.array(x_treinamento), np.array(y_treinamento)\n",
        "\n",
        "#Convertendo array para matriz\n",
        "\n",
        "x_treinamento = np.reshape(x_treinamento,(x_treinamento.shape[0], x_treinamento.shape[1], 1))\n",
        "\n",
        "#Verificação da demisao da Matriz\n",
        "\n",
        "x_treinamento.shape"
      ],
      "execution_count": 12,
      "outputs": [
        {
          "output_type": "execute_result",
          "data": {
            "text/plain": [
              "(51, 60, 1)"
            ]
          },
          "metadata": {},
          "execution_count": 12
        }
      ]
    },
    {
      "cell_type": "markdown",
      "metadata": {
        "id": "RUoQR12SVF6t"
      },
      "source": [
        "**Vamos treinar nosso modelo com o Keras**\n",
        "\n",
        "O Gradient Descent é a função usada para minimização do erro dos pesos do modelo\n",
        "\n",
        "Os erros são calculados usando técnicas como Mean Squared Error."
      ]
    },
    {
      "cell_type": "code",
      "metadata": {
        "id": "Cl26kntcVDad",
        "colab": {
          "base_uri": "https://localhost:8080/"
        },
        "outputId": "ed32780f-5817-4f66-e0bf-279790cbdd4c"
      },
      "source": [
        "# Importando as libs responsáveis pelo treinamento do Keras\n",
        "from keras.models import Sequential\n",
        "from keras.layers import Dense, LSTM\n",
        "\n",
        "#Definindo a função do keras\n",
        "#Essa função é uma pilha linear de camadas do keras\n",
        "Modelo = Sequential()\n",
        "\n",
        "#Adicionando camadas e parametros para  nossa rede neural\n",
        "#Treinamento da rede neural recorrente\n",
        "\n",
        "#LSTM - Long Short Term - Memory\n",
        "Modelo.add(LSTM(50, return_sequences = True,\n",
        "                input_shape = (x_treinamento.shape[1], 1)))\n",
        "Modelo.add(LSTM(50, return_sequences= False))\n",
        "\n",
        "#Adicionando as camadas na rede neural\n",
        "Modelo.add(Dense(25))\n",
        "Modelo.add(Dense(1))\n",
        "Modelo.compile(optimizer = 'adam', loss = 'mean_squared_error')\n",
        "\n",
        "#Treinando o modelo\n",
        "Modelo.fit(x_treinamento, y_treinamento, batch_size = 1, epochs = 1)\n",
        "\n",
        "\n",
        "\n",
        "\n",
        "\n",
        "\n"
      ],
      "execution_count": 13,
      "outputs": [
        {
          "output_type": "stream",
          "name": "stdout",
          "text": [
            "51/51 [==============================] - 4s 23ms/step - loss: 0.0012\n"
          ]
        },
        {
          "output_type": "execute_result",
          "data": {
            "text/plain": [
              "<keras.callbacks.History at 0x7f9a091c5dd0>"
            ]
          },
          "metadata": {},
          "execution_count": 13
        }
      ]
    },
    {
      "cell_type": "code",
      "metadata": {
        "id": "lb3ty2pmEsyQ",
        "colab": {
          "base_uri": "https://localhost:8080/"
        },
        "outputId": "4ecf2dd8-42b1-418c-d80f-bf742afd7cbc"
      },
      "source": [
        "# Definindo amostra para ser testada\n",
        "Dados_Teste = Dados_Escalonados_Fechamento[Dados_Fechamento_Valores_Tamanho - 60: , :]\n",
        "# Lista para recever os dados de teste\n",
        "x_teste = []\n",
        "# Lista com os dados de teste\n",
        "y_Teste = Dados_Fechamento_Valores[Dados_Fechamento_Valores_Tamanho:, :]\n",
        "\n",
        "# Loop para fixar amostra para teste\n",
        "for Loop in range (60, len(Dados_Teste)):\n",
        "    x_teste.append(Dados_Teste[Loop - 60:Loop, 0])\n",
        "\n",
        "# Transformando os dados em um array\n",
        "x_teste = np.array(x_teste)\n",
        "# Convertendo o array para Matriz\n",
        "x_teste = np.reshape(x_teste, (x_teste.shape[0], x_teste.shape[1], 1))\n",
        "\n",
        "# Aplicando as Previsões\n",
        "Previsoes = Modelo.predict(x_teste)\n",
        "# Invertendo para escalas reais \n",
        "Previsoes = Funcao_Escalonamento_01.inverse_transform(Previsoes)\n",
        "\n",
        "# Calculando o erro quadrático médio\n",
        "rsme = np.sqrt(np.mean(Previsoes - y_Teste) ** 2)\n",
        "print('Erro Quadrático Médio:', rsme )"
      ],
      "execution_count": 14,
      "outputs": [
        {
          "output_type": "stream",
          "name": "stdout",
          "text": [
            "Erro Quadrático Médio: 0.798889010342685\n"
          ]
        }
      ]
    },
    {
      "cell_type": "code",
      "metadata": {
        "id": "WMfhoV39InTG",
        "colab": {
          "base_uri": "https://localhost:8080/"
        },
        "outputId": "c4d94224-d1e0-4f81-bf65-1faa81dea266"
      },
      "source": [
        "# Criando a base para verificar o real x modelo\n",
        "Validação = Dados_Fechamento[Dados_Fechamento_Valores_Tamanho:]\n",
        "\n",
        "# Atribuindo as previsões no DataSet\n",
        "Validação['Previsões'] = Previsoes"
      ],
      "execution_count": 15,
      "outputs": [
        {
          "output_type": "stream",
          "name": "stderr",
          "text": [
            "/usr/local/lib/python3.7/dist-packages/ipykernel_launcher.py:5: SettingWithCopyWarning:\n",
            "\n",
            "\n",
            "A value is trying to be set on a copy of a slice from a DataFrame.\n",
            "Try using .loc[row_indexer,col_indexer] = value instead\n",
            "\n",
            "See the caveats in the documentation: https://pandas.pydata.org/pandas-docs/stable/user_guide/indexing.html#returning-a-view-versus-a-copy\n",
            "\n"
          ]
        }
      ]
    },
    {
      "cell_type": "code",
      "metadata": {
        "id": "d3yE2FOWSn0-",
        "colab": {
          "base_uri": "https://localhost:8080/",
          "height": 770
        },
        "outputId": "f09e73d4-db60-441a-d2b7-0452a743c809"
      },
      "source": [
        "# Verificando o real vs modelo\n",
        "Validação[['Fechamento','Previsões']].head(60)"
      ],
      "execution_count": 16,
      "outputs": [
        {
          "output_type": "execute_result",
          "data": {
            "text/html": [
              "<div>\n",
              "<style scoped>\n",
              "    .dataframe tbody tr th:only-of-type {\n",
              "        vertical-align: middle;\n",
              "    }\n",
              "\n",
              "    .dataframe tbody tr th {\n",
              "        vertical-align: top;\n",
              "    }\n",
              "\n",
              "    .dataframe thead th {\n",
              "        text-align: right;\n",
              "    }\n",
              "</style>\n",
              "<table border=\"1\" class=\"dataframe\">\n",
              "  <thead>\n",
              "    <tr style=\"text-align: right;\">\n",
              "      <th></th>\n",
              "      <th>Fechamento</th>\n",
              "      <th>Previsões</th>\n",
              "    </tr>\n",
              "    <tr>\n",
              "      <th>Data</th>\n",
              "      <th></th>\n",
              "      <th></th>\n",
              "    </tr>\n",
              "  </thead>\n",
              "  <tbody>\n",
              "    <tr>\n",
              "      <th>2021-06-11</th>\n",
              "      <td>36.018</td>\n",
              "      <td>35.916809</td>\n",
              "    </tr>\n",
              "    <tr>\n",
              "      <th>2021-06-10</th>\n",
              "      <td>41.026</td>\n",
              "      <td>35.909668</td>\n",
              "    </tr>\n",
              "    <tr>\n",
              "      <th>2021-06-09</th>\n",
              "      <td>42.024</td>\n",
              "      <td>35.959114</td>\n",
              "    </tr>\n",
              "    <tr>\n",
              "      <th>2021-06-08</th>\n",
              "      <td>41.240</td>\n",
              "      <td>36.051502</td>\n",
              "    </tr>\n",
              "    <tr>\n",
              "      <th>2021-06-07</th>\n",
              "      <td>38.177</td>\n",
              "      <td>36.143471</td>\n",
              "    </tr>\n",
              "    <tr>\n",
              "      <th>2021-06-06</th>\n",
              "      <td>42.249</td>\n",
              "      <td>36.171455</td>\n",
              "    </tr>\n",
              "    <tr>\n",
              "      <th>2021-06-05</th>\n",
              "      <td>39.746</td>\n",
              "      <td>36.232761</td>\n",
              "    </tr>\n",
              "    <tr>\n",
              "      <th>2021-06-04</th>\n",
              "      <td>37.387</td>\n",
              "      <td>36.261711</td>\n",
              "    </tr>\n",
              "    <tr>\n",
              "      <th>2021-06-03</th>\n",
              "      <td>39.600</td>\n",
              "      <td>36.228531</td>\n",
              "    </tr>\n",
              "    <tr>\n",
              "      <th>2021-06-02</th>\n",
              "      <td>33.904</td>\n",
              "      <td>36.203739</td>\n",
              "    </tr>\n",
              "    <tr>\n",
              "      <th>2021-06-01</th>\n",
              "      <td>30.962</td>\n",
              "      <td>36.086449</td>\n",
              "    </tr>\n",
              "    <tr>\n",
              "      <th>2021-05-31</th>\n",
              "      <td>32.814</td>\n",
              "      <td>35.879772</td>\n",
              "    </tr>\n",
              "    <tr>\n",
              "      <th>2021-05-30</th>\n",
              "      <td>28.586</td>\n",
              "      <td>35.678829</td>\n",
              "    </tr>\n",
              "    <tr>\n",
              "      <th>2021-05-29</th>\n",
              "      <td>27.342</td>\n",
              "      <td>35.428627</td>\n",
              "    </tr>\n",
              "    <tr>\n",
              "      <th>2021-05-28</th>\n",
              "      <td>29.000</td>\n",
              "      <td>35.156509</td>\n",
              "    </tr>\n",
              "    <tr>\n",
              "      <th>2021-05-27</th>\n",
              "      <td>33.747</td>\n",
              "      <td>34.930470</td>\n",
              "    </tr>\n",
              "    <tr>\n",
              "      <th>2021-05-26</th>\n",
              "      <td>35.449</td>\n",
              "      <td>34.836845</td>\n",
              "    </tr>\n",
              "    <tr>\n",
              "      <th>2021-05-25</th>\n",
              "      <td>30.075</td>\n",
              "      <td>34.855583</td>\n",
              "    </tr>\n",
              "    <tr>\n",
              "      <th>2021-05-24</th>\n",
              "      <td>31.380</td>\n",
              "      <td>34.839905</td>\n",
              "    </tr>\n",
              "    <tr>\n",
              "      <th>2021-05-23</th>\n",
              "      <td>24.621</td>\n",
              "      <td>34.830009</td>\n",
              "    </tr>\n",
              "    <tr>\n",
              "      <th>2021-05-22</th>\n",
              "      <td>31.147</td>\n",
              "      <td>34.706501</td>\n",
              "    </tr>\n",
              "    <tr>\n",
              "      <th>2021-05-21</th>\n",
              "      <td>38.887</td>\n",
              "      <td>34.648296</td>\n",
              "    </tr>\n",
              "  </tbody>\n",
              "</table>\n",
              "</div>"
            ],
            "text/plain": [
              "            Fechamento  Previsões\n",
              "Data                             \n",
              "2021-06-11      36.018  35.916809\n",
              "2021-06-10      41.026  35.909668\n",
              "2021-06-09      42.024  35.959114\n",
              "2021-06-08      41.240  36.051502\n",
              "2021-06-07      38.177  36.143471\n",
              "2021-06-06      42.249  36.171455\n",
              "2021-06-05      39.746  36.232761\n",
              "2021-06-04      37.387  36.261711\n",
              "2021-06-03      39.600  36.228531\n",
              "2021-06-02      33.904  36.203739\n",
              "2021-06-01      30.962  36.086449\n",
              "2021-05-31      32.814  35.879772\n",
              "2021-05-30      28.586  35.678829\n",
              "2021-05-29      27.342  35.428627\n",
              "2021-05-28      29.000  35.156509\n",
              "2021-05-27      33.747  34.930470\n",
              "2021-05-26      35.449  34.836845\n",
              "2021-05-25      30.075  34.855583\n",
              "2021-05-24      31.380  34.839905\n",
              "2021-05-23      24.621  34.830009\n",
              "2021-05-22      31.147  34.706501\n",
              "2021-05-21      38.887  34.648296"
            ]
          },
          "metadata": {},
          "execution_count": 16
        }
      ]
    },
    {
      "cell_type": "code",
      "metadata": {
        "id": "s9kNIcFMUXdC",
        "colab": {
          "base_uri": "https://localhost:8080/",
          "height": 517
        },
        "outputId": "5cb864e2-9e1e-4461-d295-d8d5fb3e1e6b"
      },
      "source": [
        "# Criando um Gráfico Dinâmico\n",
        "# No gráfico é possivel filtrar pela legenda a informação\n",
        "# Utlizar zoons\n",
        "\n",
        "# Definindo uma figura\n",
        "Figura = Dash.Figure()\n",
        "\n",
        "# Incluindo o Eixo no Gráfico - Fechamento\n",
        "Figura.add_trace(Dash.Scatter(x = Validação.index, y = Validação.Fechamento, \n",
        "                    mode='lines',\n",
        "                    name='Fechamento',\n",
        "                    marker_color = '#FF7F0E',\n",
        "                    ))\n",
        "\n",
        "# Incluindo o Eixo no Gráfico - Previsão\n",
        "Figura.add_trace(Dash.Scatter(x = Validação.index, y = Validação.Previsões,\n",
        "                    mode='lines',\n",
        "                    name='Previsão',\n",
        "                    marker_color = '#2CA02C',\n",
        "                    ))\n",
        "\n",
        "# Modificando o Layout do Gráfico\n",
        "Figura.update_layout(\n",
        "    title='Realizado vs Modelo de Previsão Solana', # Titulo\n",
        "    titlefont_size = 28, # Tamanho da Fonte\n",
        "    \n",
        "    # Parametros para mexer no eixo X\n",
        "    xaxis = dict( \n",
        "        title='Período Histórico', # Titulo do Eixo x\n",
        "        titlefont_size=16, # Tamanho fonte do Titulo \n",
        "        tickfont_size=14), # Tamanho da fonte do eixo \n",
        "\n",
        "    # Tamanho do Grafico\n",
        "    height = 500, \n",
        "    \n",
        "    # Parametros para mexer no eixo y\n",
        "    yaxis=dict(\n",
        "        title='Preço em Dólar', # Titulo do Eixo y\n",
        "        titlefont_size=16, # Tamanho fonte do Titulo \n",
        "        tickfont_size=14), # Tamanho da fonte do eixo \n",
        "    \n",
        "    # Parametros para mexer na legenda\n",
        "    legend=dict(\n",
        "        y=1, x=1, # Posição da Legenda\n",
        "        bgcolor='rgba(255, 255, 255, 0)', # Cor de fundo\n",
        "        bordercolor='rgba(255, 255, 255, 0)')) # Cor da Bornda\n",
        "\n",
        "# Mostrando o Gráfico\n",
        "Figura.show()"
      ],
      "execution_count": 17,
      "outputs": [
        {
          "output_type": "display_data",
          "data": {
            "text/html": [
              "<html>\n",
              "<head><meta charset=\"utf-8\" /></head>\n",
              "<body>\n",
              "    <div>\n",
              "            <script src=\"https://cdnjs.cloudflare.com/ajax/libs/mathjax/2.7.5/MathJax.js?config=TeX-AMS-MML_SVG\"></script><script type=\"text/javascript\">if (window.MathJax) {MathJax.Hub.Config({SVG: {font: \"STIX-Web\"}});}</script>\n",
              "                <script type=\"text/javascript\">window.PlotlyConfig = {MathJaxConfig: 'local'};</script>\n",
              "        <script src=\"https://cdn.plot.ly/plotly-latest.min.js\"></script>    \n",
              "            <div id=\"cb9bbd83-7d1a-4657-9648-ce20b23c0234\" class=\"plotly-graph-div\" style=\"height:500px; width:100%;\"></div>\n",
              "            <script type=\"text/javascript\">\n",
              "                \n",
              "                    window.PLOTLYENV=window.PLOTLYENV || {};\n",
              "                    \n",
              "                if (document.getElementById(\"cb9bbd83-7d1a-4657-9648-ce20b23c0234\")) {\n",
              "                    Plotly.newPlot(\n",
              "                        'cb9bbd83-7d1a-4657-9648-ce20b23c0234',\n",
              "                        [{\"marker\": {\"color\": \"#FF7F0E\"}, \"mode\": \"lines\", \"name\": \"Fechamento\", \"type\": \"scatter\", \"x\": [\"2021-06-11\", \"2021-06-10\", \"2021-06-09\", \"2021-06-08\", \"2021-06-07\", \"2021-06-06\", \"2021-06-05\", \"2021-06-04\", \"2021-06-03\", \"2021-06-02\", \"2021-06-01\", \"2021-05-31\", \"2021-05-30\", \"2021-05-29\", \"2021-05-28\", \"2021-05-27\", \"2021-05-26\", \"2021-05-25\", \"2021-05-24\", \"2021-05-23\", \"2021-05-22\", \"2021-05-21\"], \"y\": [36.018, 41.026, 42.023999999999994, 41.24, 38.177, 42.248999999999995, 39.746, 37.387, 39.6, 33.904, 30.962, 32.814, 28.586, 27.342, 29.0, 33.747, 35.449, 30.075, 31.38, 24.621, 31.147, 38.887]}, {\"marker\": {\"color\": \"#2CA02C\"}, \"mode\": \"lines\", \"name\": \"Previs\\u00e3o\", \"type\": \"scatter\", \"x\": [\"2021-06-11\", \"2021-06-10\", \"2021-06-09\", \"2021-06-08\", \"2021-06-07\", \"2021-06-06\", \"2021-06-05\", \"2021-06-04\", \"2021-06-03\", \"2021-06-02\", \"2021-06-01\", \"2021-05-31\", \"2021-05-30\", \"2021-05-29\", \"2021-05-28\", \"2021-05-27\", \"2021-05-26\", \"2021-05-25\", \"2021-05-24\", \"2021-05-23\", \"2021-05-22\", \"2021-05-21\"], \"y\": [35.91680908203125, 35.90966796875, 35.95911407470703, 36.0515022277832, 36.143470764160156, 36.17145538330078, 36.23276138305664, 36.26171112060547, 36.22853088378906, 36.203739166259766, 36.086448669433594, 35.8797721862793, 35.678829193115234, 35.428627014160156, 35.15650939941406, 34.93046951293945, 34.83684539794922, 34.85558319091797, 34.83990478515625, 34.83000946044922, 34.70650100708008, 34.64829635620117]}],\n",
              "                        {\"height\": 500, \"legend\": {\"bgcolor\": \"rgba(255, 255, 255, 0)\", \"bordercolor\": \"rgba(255, 255, 255, 0)\", \"x\": 1, \"y\": 1}, \"template\": {\"data\": {\"bar\": [{\"error_x\": {\"color\": \"#2a3f5f\"}, \"error_y\": {\"color\": \"#2a3f5f\"}, \"marker\": {\"line\": {\"color\": \"#E5ECF6\", \"width\": 0.5}}, \"type\": \"bar\"}], \"barpolar\": [{\"marker\": {\"line\": {\"color\": \"#E5ECF6\", \"width\": 0.5}}, \"type\": \"barpolar\"}], \"carpet\": [{\"aaxis\": {\"endlinecolor\": \"#2a3f5f\", \"gridcolor\": \"white\", \"linecolor\": \"white\", \"minorgridcolor\": \"white\", \"startlinecolor\": \"#2a3f5f\"}, \"baxis\": {\"endlinecolor\": \"#2a3f5f\", \"gridcolor\": \"white\", \"linecolor\": \"white\", \"minorgridcolor\": \"white\", \"startlinecolor\": \"#2a3f5f\"}, \"type\": \"carpet\"}], \"choropleth\": [{\"colorbar\": {\"outlinewidth\": 0, \"ticks\": \"\"}, \"type\": \"choropleth\"}], \"contour\": [{\"colorbar\": {\"outlinewidth\": 0, \"ticks\": \"\"}, \"colorscale\": [[0.0, \"#0d0887\"], [0.1111111111111111, \"#46039f\"], [0.2222222222222222, \"#7201a8\"], [0.3333333333333333, \"#9c179e\"], [0.4444444444444444, \"#bd3786\"], [0.5555555555555556, \"#d8576b\"], [0.6666666666666666, \"#ed7953\"], [0.7777777777777778, \"#fb9f3a\"], [0.8888888888888888, \"#fdca26\"], [1.0, \"#f0f921\"]], \"type\": \"contour\"}], \"contourcarpet\": [{\"colorbar\": {\"outlinewidth\": 0, \"ticks\": \"\"}, \"type\": \"contourcarpet\"}], \"heatmap\": [{\"colorbar\": {\"outlinewidth\": 0, \"ticks\": \"\"}, \"colorscale\": [[0.0, \"#0d0887\"], [0.1111111111111111, \"#46039f\"], [0.2222222222222222, \"#7201a8\"], [0.3333333333333333, \"#9c179e\"], [0.4444444444444444, \"#bd3786\"], [0.5555555555555556, \"#d8576b\"], [0.6666666666666666, \"#ed7953\"], [0.7777777777777778, \"#fb9f3a\"], [0.8888888888888888, \"#fdca26\"], [1.0, \"#f0f921\"]], \"type\": \"heatmap\"}], \"heatmapgl\": [{\"colorbar\": {\"outlinewidth\": 0, \"ticks\": \"\"}, \"colorscale\": [[0.0, \"#0d0887\"], [0.1111111111111111, \"#46039f\"], [0.2222222222222222, \"#7201a8\"], [0.3333333333333333, \"#9c179e\"], [0.4444444444444444, \"#bd3786\"], [0.5555555555555556, \"#d8576b\"], [0.6666666666666666, \"#ed7953\"], [0.7777777777777778, \"#fb9f3a\"], [0.8888888888888888, \"#fdca26\"], [1.0, \"#f0f921\"]], \"type\": \"heatmapgl\"}], \"histogram\": [{\"marker\": {\"colorbar\": {\"outlinewidth\": 0, \"ticks\": \"\"}}, \"type\": \"histogram\"}], \"histogram2d\": [{\"colorbar\": {\"outlinewidth\": 0, \"ticks\": \"\"}, \"colorscale\": [[0.0, \"#0d0887\"], [0.1111111111111111, \"#46039f\"], [0.2222222222222222, \"#7201a8\"], [0.3333333333333333, \"#9c179e\"], [0.4444444444444444, \"#bd3786\"], [0.5555555555555556, \"#d8576b\"], [0.6666666666666666, \"#ed7953\"], [0.7777777777777778, \"#fb9f3a\"], [0.8888888888888888, \"#fdca26\"], [1.0, \"#f0f921\"]], \"type\": \"histogram2d\"}], \"histogram2dcontour\": [{\"colorbar\": {\"outlinewidth\": 0, \"ticks\": \"\"}, \"colorscale\": [[0.0, \"#0d0887\"], [0.1111111111111111, \"#46039f\"], [0.2222222222222222, \"#7201a8\"], [0.3333333333333333, \"#9c179e\"], [0.4444444444444444, \"#bd3786\"], [0.5555555555555556, \"#d8576b\"], [0.6666666666666666, \"#ed7953\"], [0.7777777777777778, \"#fb9f3a\"], [0.8888888888888888, \"#fdca26\"], [1.0, \"#f0f921\"]], \"type\": \"histogram2dcontour\"}], \"mesh3d\": [{\"colorbar\": {\"outlinewidth\": 0, \"ticks\": \"\"}, \"type\": \"mesh3d\"}], \"parcoords\": [{\"line\": {\"colorbar\": {\"outlinewidth\": 0, \"ticks\": \"\"}}, \"type\": \"parcoords\"}], \"pie\": [{\"automargin\": true, \"type\": \"pie\"}], \"scatter\": [{\"marker\": {\"colorbar\": {\"outlinewidth\": 0, \"ticks\": \"\"}}, \"type\": \"scatter\"}], \"scatter3d\": [{\"line\": {\"colorbar\": {\"outlinewidth\": 0, \"ticks\": \"\"}}, \"marker\": {\"colorbar\": {\"outlinewidth\": 0, \"ticks\": \"\"}}, \"type\": \"scatter3d\"}], \"scattercarpet\": [{\"marker\": {\"colorbar\": {\"outlinewidth\": 0, \"ticks\": \"\"}}, \"type\": \"scattercarpet\"}], \"scattergeo\": [{\"marker\": {\"colorbar\": {\"outlinewidth\": 0, \"ticks\": \"\"}}, \"type\": \"scattergeo\"}], \"scattergl\": [{\"marker\": {\"colorbar\": {\"outlinewidth\": 0, \"ticks\": \"\"}}, \"type\": \"scattergl\"}], \"scattermapbox\": [{\"marker\": {\"colorbar\": {\"outlinewidth\": 0, \"ticks\": \"\"}}, \"type\": \"scattermapbox\"}], \"scatterpolar\": [{\"marker\": {\"colorbar\": {\"outlinewidth\": 0, \"ticks\": \"\"}}, \"type\": \"scatterpolar\"}], \"scatterpolargl\": [{\"marker\": {\"colorbar\": {\"outlinewidth\": 0, \"ticks\": \"\"}}, \"type\": \"scatterpolargl\"}], \"scatterternary\": [{\"marker\": {\"colorbar\": {\"outlinewidth\": 0, \"ticks\": \"\"}}, \"type\": \"scatterternary\"}], \"surface\": [{\"colorbar\": {\"outlinewidth\": 0, \"ticks\": \"\"}, \"colorscale\": [[0.0, \"#0d0887\"], [0.1111111111111111, \"#46039f\"], [0.2222222222222222, \"#7201a8\"], [0.3333333333333333, \"#9c179e\"], [0.4444444444444444, \"#bd3786\"], [0.5555555555555556, \"#d8576b\"], [0.6666666666666666, \"#ed7953\"], [0.7777777777777778, \"#fb9f3a\"], [0.8888888888888888, \"#fdca26\"], [1.0, \"#f0f921\"]], \"type\": \"surface\"}], \"table\": [{\"cells\": {\"fill\": {\"color\": \"#EBF0F8\"}, \"line\": {\"color\": \"white\"}}, \"header\": {\"fill\": {\"color\": \"#C8D4E3\"}, \"line\": {\"color\": \"white\"}}, \"type\": \"table\"}]}, \"layout\": {\"annotationdefaults\": {\"arrowcolor\": \"#2a3f5f\", \"arrowhead\": 0, \"arrowwidth\": 1}, \"coloraxis\": {\"colorbar\": {\"outlinewidth\": 0, \"ticks\": \"\"}}, \"colorscale\": {\"diverging\": [[0, \"#8e0152\"], [0.1, \"#c51b7d\"], [0.2, \"#de77ae\"], [0.3, \"#f1b6da\"], [0.4, \"#fde0ef\"], [0.5, \"#f7f7f7\"], [0.6, \"#e6f5d0\"], [0.7, \"#b8e186\"], [0.8, \"#7fbc41\"], [0.9, \"#4d9221\"], [1, \"#276419\"]], \"sequential\": [[0.0, \"#0d0887\"], [0.1111111111111111, \"#46039f\"], [0.2222222222222222, \"#7201a8\"], [0.3333333333333333, \"#9c179e\"], [0.4444444444444444, \"#bd3786\"], [0.5555555555555556, \"#d8576b\"], [0.6666666666666666, \"#ed7953\"], [0.7777777777777778, \"#fb9f3a\"], [0.8888888888888888, \"#fdca26\"], [1.0, \"#f0f921\"]], \"sequentialminus\": [[0.0, \"#0d0887\"], [0.1111111111111111, \"#46039f\"], [0.2222222222222222, \"#7201a8\"], [0.3333333333333333, \"#9c179e\"], [0.4444444444444444, \"#bd3786\"], [0.5555555555555556, \"#d8576b\"], [0.6666666666666666, \"#ed7953\"], [0.7777777777777778, \"#fb9f3a\"], [0.8888888888888888, \"#fdca26\"], [1.0, \"#f0f921\"]]}, \"colorway\": [\"#636efa\", \"#EF553B\", \"#00cc96\", \"#ab63fa\", \"#FFA15A\", \"#19d3f3\", \"#FF6692\", \"#B6E880\", \"#FF97FF\", \"#FECB52\"], \"font\": {\"color\": \"#2a3f5f\"}, \"geo\": {\"bgcolor\": \"white\", \"lakecolor\": \"white\", \"landcolor\": \"#E5ECF6\", \"showlakes\": true, \"showland\": true, \"subunitcolor\": \"white\"}, \"hoverlabel\": {\"align\": \"left\"}, \"hovermode\": \"closest\", \"mapbox\": {\"style\": \"light\"}, \"paper_bgcolor\": \"white\", \"plot_bgcolor\": \"#E5ECF6\", \"polar\": {\"angularaxis\": {\"gridcolor\": \"white\", \"linecolor\": \"white\", \"ticks\": \"\"}, \"bgcolor\": \"#E5ECF6\", \"radialaxis\": {\"gridcolor\": \"white\", \"linecolor\": \"white\", \"ticks\": \"\"}}, \"scene\": {\"xaxis\": {\"backgroundcolor\": \"#E5ECF6\", \"gridcolor\": \"white\", \"gridwidth\": 2, \"linecolor\": \"white\", \"showbackground\": true, \"ticks\": \"\", \"zerolinecolor\": \"white\"}, \"yaxis\": {\"backgroundcolor\": \"#E5ECF6\", \"gridcolor\": \"white\", \"gridwidth\": 2, \"linecolor\": \"white\", \"showbackground\": true, \"ticks\": \"\", \"zerolinecolor\": \"white\"}, \"zaxis\": {\"backgroundcolor\": \"#E5ECF6\", \"gridcolor\": \"white\", \"gridwidth\": 2, \"linecolor\": \"white\", \"showbackground\": true, \"ticks\": \"\", \"zerolinecolor\": \"white\"}}, \"shapedefaults\": {\"line\": {\"color\": \"#2a3f5f\"}}, \"ternary\": {\"aaxis\": {\"gridcolor\": \"white\", \"linecolor\": \"white\", \"ticks\": \"\"}, \"baxis\": {\"gridcolor\": \"white\", \"linecolor\": \"white\", \"ticks\": \"\"}, \"bgcolor\": \"#E5ECF6\", \"caxis\": {\"gridcolor\": \"white\", \"linecolor\": \"white\", \"ticks\": \"\"}}, \"title\": {\"x\": 0.05}, \"xaxis\": {\"automargin\": true, \"gridcolor\": \"white\", \"linecolor\": \"white\", \"ticks\": \"\", \"title\": {\"standoff\": 15}, \"zerolinecolor\": \"white\", \"zerolinewidth\": 2}, \"yaxis\": {\"automargin\": true, \"gridcolor\": \"white\", \"linecolor\": \"white\", \"ticks\": \"\", \"title\": {\"standoff\": 15}, \"zerolinecolor\": \"white\", \"zerolinewidth\": 2}}}, \"title\": {\"font\": {\"size\": 28}, \"text\": \"Realizado vs Modelo de Previs\\u00e3o Solana\"}, \"xaxis\": {\"tickfont\": {\"size\": 14}, \"title\": {\"font\": {\"size\": 16}, \"text\": \"Per\\u00edodo Hist\\u00f3rico\"}}, \"yaxis\": {\"tickfont\": {\"size\": 14}, \"title\": {\"font\": {\"size\": 16}, \"text\": \"Pre\\u00e7o em D\\u00f3lar\"}}},\n",
              "                        {\"responsive\": true}\n",
              "                    ).then(function(){\n",
              "                            \n",
              "var gd = document.getElementById('cb9bbd83-7d1a-4657-9648-ce20b23c0234');\n",
              "var x = new MutationObserver(function (mutations, observer) {{\n",
              "        var display = window.getComputedStyle(gd).display;\n",
              "        if (!display || display === 'none') {{\n",
              "            console.log([gd, 'removed!']);\n",
              "            Plotly.purge(gd);\n",
              "            observer.disconnect();\n",
              "        }}\n",
              "}});\n",
              "\n",
              "// Listen for the removal of the full notebook cells\n",
              "var notebookContainer = gd.closest('#notebook-container');\n",
              "if (notebookContainer) {{\n",
              "    x.observe(notebookContainer, {childList: true});\n",
              "}}\n",
              "\n",
              "// Listen for the clearing of the current output cell\n",
              "var outputEl = gd.closest('.output');\n",
              "if (outputEl) {{\n",
              "    x.observe(outputEl, {childList: true});\n",
              "}}\n",
              "\n",
              "                        })\n",
              "                };\n",
              "                \n",
              "            </script>\n",
              "        </div>\n",
              "</body>\n",
              "</html>"
            ]
          },
          "metadata": {}
        }
      ]
    }
  ]
}